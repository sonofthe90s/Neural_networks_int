{
 "cells": [
  {
   "cell_type": "code",
   "execution_count": 1,
   "metadata": {},
   "outputs": [],
   "source": [
    "# pip install keras"
   ]
  },
  {
   "cell_type": "code",
   "execution_count": 1,
   "metadata": {},
   "outputs": [
    {
     "name": "stdout",
     "output_type": "stream",
     "text": [
      "Collecting pip\n",
      "  Using cached pip-21.1.1-py3-none-any.whl (1.5 MB)\n",
      "Installing collected packages: pip\n",
      "  Attempting uninstall: pip\n",
      "    Found existing installation: pip 20.0.2\n",
      "    Uninstalling pip-20.0.2:\n",
      "Note: you may need to restart the kernel to use updated packages.\n"
     ]
    },
    {
     "name": "stderr",
     "output_type": "stream",
     "text": [
      "ERROR: Could not install packages due to an EnvironmentError: [('c:\\\\users\\\\user\\\\anaconda3\\\\lib\\\\site-packages\\\\pip-20.0.2-py3.7.egg-info\\\\dependency_links.txt', 'c:\\\\users\\\\user\\\\anaconda3\\\\lib\\\\site-packages\\\\~ip-20.0.2-py3.7.egg-info\\\\pip-20.0.2-py3.7.egg-info\\\\dependency_links.txt', \"[Errno 2] No such file or directory: 'c:\\\\\\\\users\\\\\\\\user\\\\\\\\anaconda3\\\\\\\\lib\\\\\\\\site-packages\\\\\\\\pip-20.0.2-py3.7.egg-info\\\\\\\\dependency_links.txt'\"), ('c:\\\\users\\\\user\\\\anaconda3\\\\lib\\\\site-packages\\\\pip-20.0.2-py3.7.egg-info\\\\entry_points.txt', 'c:\\\\users\\\\user\\\\anaconda3\\\\lib\\\\site-packages\\\\~ip-20.0.2-py3.7.egg-info\\\\pip-20.0.2-py3.7.egg-info\\\\entry_points.txt', \"[Errno 2] No such file or directory: 'c:\\\\\\\\users\\\\\\\\user\\\\\\\\anaconda3\\\\\\\\lib\\\\\\\\site-packages\\\\\\\\pip-20.0.2-py3.7.egg-info\\\\\\\\entry_points.txt'\"), ('c:\\\\users\\\\user\\\\anaconda3\\\\lib\\\\site-packages\\\\pip-20.0.2-py3.7.egg-info\\\\not-zip-safe', 'c:\\\\users\\\\user\\\\anaconda3\\\\lib\\\\site-packages\\\\~ip-20.0.2-py3.7.egg-info\\\\pip-20.0.2-py3.7.egg-info\\\\not-zip-safe', \"[Errno 2] No such file or directory: 'c:\\\\\\\\users\\\\\\\\user\\\\\\\\anaconda3\\\\\\\\lib\\\\\\\\site-packages\\\\\\\\pip-20.0.2-py3.7.egg-info\\\\\\\\not-zip-safe'\"), ('c:\\\\users\\\\user\\\\anaconda3\\\\lib\\\\site-packages\\\\pip-20.0.2-py3.7.egg-info\\\\PKG-INFO', 'c:\\\\users\\\\user\\\\anaconda3\\\\lib\\\\site-packages\\\\~ip-20.0.2-py3.7.egg-info\\\\pip-20.0.2-py3.7.egg-info\\\\PKG-INFO', \"[Errno 2] No such file or directory: 'c:\\\\\\\\users\\\\\\\\user\\\\\\\\anaconda3\\\\\\\\lib\\\\\\\\site-packages\\\\\\\\pip-20.0.2-py3.7.egg-info\\\\\\\\PKG-INFO'\"), ('c:\\\\users\\\\user\\\\anaconda3\\\\lib\\\\site-packages\\\\pip-20.0.2-py3.7.egg-info\\\\SOURCES.txt', 'c:\\\\users\\\\user\\\\anaconda3\\\\lib\\\\site-packages\\\\~ip-20.0.2-py3.7.egg-info\\\\pip-20.0.2-py3.7.egg-info\\\\SOURCES.txt', \"[Errno 2] No such file or directory: 'c:\\\\\\\\users\\\\\\\\user\\\\\\\\anaconda3\\\\\\\\lib\\\\\\\\site-packages\\\\\\\\pip-20.0.2-py3.7.egg-info\\\\\\\\SOURCES.txt'\"), ('c:\\\\users\\\\user\\\\anaconda3\\\\lib\\\\site-packages\\\\pip-20.0.2-py3.7.egg-info\\\\top_level.txt', 'c:\\\\users\\\\user\\\\anaconda3\\\\lib\\\\site-packages\\\\~ip-20.0.2-py3.7.egg-info\\\\pip-20.0.2-py3.7.egg-info\\\\top_level.txt', \"[Errno 2] No such file or directory: 'c:\\\\\\\\users\\\\\\\\user\\\\\\\\anaconda3\\\\\\\\lib\\\\\\\\site-packages\\\\\\\\pip-20.0.2-py3.7.egg-info\\\\\\\\top_level.txt'\")]\n",
      "\n"
     ]
    }
   ],
   "source": [
    "pip install --upgrade pip"
   ]
  },
  {
   "cell_type": "code",
   "execution_count": 2,
   "metadata": {},
   "outputs": [
    {
     "name": "stdout",
     "output_type": "stream",
     "text": [
      "Requirement already satisfied: tensorflow in c:\\users\\user\\anaconda3\\lib\\site-packages (2.4.1)\n",
      "Requirement already satisfied: google-pasta~=0.2 in c:\\users\\user\\anaconda3\\lib\\site-packages (from tensorflow) (0.2.0)\n",
      "Requirement already satisfied: numpy~=1.19.2 in c:\\users\\user\\anaconda3\\lib\\site-packages (from tensorflow) (1.19.5)\n",
      "Requirement already satisfied: termcolor~=1.1.0 in c:\\users\\user\\anaconda3\\lib\\site-packages (from tensorflow) (1.1.0)\n",
      "Requirement already satisfied: typing-extensions~=3.7.4 in c:\\users\\user\\anaconda3\\lib\\site-packages (from tensorflow) (3.7.4.3)\n",
      "Requirement already satisfied: protobuf>=3.9.2 in c:\\users\\user\\anaconda3\\lib\\site-packages (from tensorflow) (3.16.0)\n",
      "Requirement already satisfied: wheel~=0.35 in c:\\users\\user\\anaconda3\\lib\\site-packages (from tensorflow) (0.36.2)\n",
      "Requirement already satisfied: wrapt~=1.12.1 in c:\\users\\user\\anaconda3\\lib\\site-packages (from tensorflow) (1.12.1)\n",
      "Requirement already satisfied: gast==0.3.3 in c:\\users\\user\\anaconda3\\lib\\site-packages (from tensorflow) (0.3.3)\n",
      "Requirement already satisfied: grpcio~=1.32.0 in c:\\users\\user\\anaconda3\\lib\\site-packages (from tensorflow) (1.32.0)\n",
      "Requirement already satisfied: keras-preprocessing~=1.1.2 in c:\\users\\user\\anaconda3\\lib\\site-packages (from tensorflow) (1.1.2)\n",
      "Requirement already satisfied: flatbuffers~=1.12.0 in c:\\users\\user\\anaconda3\\lib\\site-packages (from tensorflow) (1.12)\n",
      "Requirement already satisfied: opt-einsum~=3.3.0 in c:\\users\\user\\anaconda3\\lib\\site-packages (from tensorflow) (3.3.0)\n",
      "Requirement already satisfied: absl-py~=0.10 in c:\\users\\user\\anaconda3\\lib\\site-packages (from tensorflow) (0.12.0)\n",
      "Requirement already satisfied: astunparse~=1.6.3 in c:\\users\\user\\anaconda3\\lib\\site-packages (from tensorflow) (1.6.3)\n",
      "Requirement already satisfied: six~=1.15.0 in c:\\users\\user\\anaconda3\\lib\\site-packages (from tensorflow) (1.15.0)\n",
      "Requirement already satisfied: tensorflow-estimator<2.5.0,>=2.4.0 in c:\\users\\user\\anaconda3\\lib\\site-packages (from tensorflow) (2.4.0)\n",
      "Requirement already satisfied: tensorboard~=2.4 in c:\\users\\user\\anaconda3\\lib\\site-packages (from tensorflow) (2.5.0)\n",
      "Requirement already satisfied: h5py~=2.10.0 in c:\\users\\user\\anaconda3\\lib\\site-packages (from tensorflow) (2.10.0)\n",
      "Requirement already satisfied: google-auth<2,>=1.6.3 in c:\\users\\user\\anaconda3\\lib\\site-packages (from tensorboard~=2.4->tensorflow) (1.30.0)\n",
      "Requirement already satisfied: google-auth-oauthlib<0.5,>=0.4.1 in c:\\users\\user\\anaconda3\\lib\\site-packages (from tensorboard~=2.4->tensorflow) (0.4.4)\n",
      "Requirement already satisfied: requests<3,>=2.21.0 in c:\\users\\user\\anaconda3\\lib\\site-packages (from tensorboard~=2.4->tensorflow) (2.22.0)\n",
      "Requirement already satisfied: tensorboard-data-server<0.7.0,>=0.6.0 in c:\\users\\user\\anaconda3\\lib\\site-packages (from tensorboard~=2.4->tensorflow) (0.6.1)\n",
      "Requirement already satisfied: tensorboard-plugin-wit>=1.6.0 in c:\\users\\user\\anaconda3\\lib\\site-packages (from tensorboard~=2.4->tensorflow) (1.8.0)\n",
      "Requirement already satisfied: setuptools>=41.0.0 in c:\\users\\user\\anaconda3\\lib\\site-packages (from tensorboard~=2.4->tensorflow) (45.2.0.post20200210)\n",
      "Requirement already satisfied: werkzeug>=0.11.15 in c:\\users\\user\\anaconda3\\lib\\site-packages (from tensorboard~=2.4->tensorflow) (1.0.0)\n",
      "Requirement already satisfied: markdown>=2.6.8 in c:\\users\\user\\anaconda3\\lib\\site-packages (from tensorboard~=2.4->tensorflow) (3.3.4)\n",
      "Requirement already satisfied: rsa<5,>=3.1.4 in c:\\users\\user\\anaconda3\\lib\\site-packages (from google-auth<2,>=1.6.3->tensorboard~=2.4->tensorflow) (4.7.2)\n",
      "Requirement already satisfied: cachetools<5.0,>=2.0.0 in c:\\users\\user\\anaconda3\\lib\\site-packages (from google-auth<2,>=1.6.3->tensorboard~=2.4->tensorflow) (4.2.2)\n",
      "Requirement already satisfied: pyasn1-modules>=0.2.1 in c:\\users\\user\\anaconda3\\lib\\site-packages (from google-auth<2,>=1.6.3->tensorboard~=2.4->tensorflow) (0.2.8)\n",
      "Requirement already satisfied: requests-oauthlib>=0.7.0 in c:\\users\\user\\anaconda3\\lib\\site-packages (from google-auth-oauthlib<0.5,>=0.4.1->tensorboard~=2.4->tensorflow) (1.3.0)\n",
      "Requirement already satisfied: importlib-metadata in c:\\users\\user\\anaconda3\\lib\\site-packages (from markdown>=2.6.8->tensorboard~=2.4->tensorflow) (1.5.0)\n",
      "Requirement already satisfied: pyasn1<0.5.0,>=0.4.6 in c:\\users\\user\\anaconda3\\lib\\site-packages (from pyasn1-modules>=0.2.1->google-auth<2,>=1.6.3->tensorboard~=2.4->tensorflow) (0.4.8)\n",
      "Requirement already satisfied: idna<2.9,>=2.5 in c:\\users\\user\\anaconda3\\lib\\site-packages (from requests<3,>=2.21.0->tensorboard~=2.4->tensorflow) (2.8)\n",
      "Requirement already satisfied: certifi>=2017.4.17 in c:\\users\\user\\anaconda3\\lib\\site-packages (from requests<3,>=2.21.0->tensorboard~=2.4->tensorflow) (2019.11.28)\n",
      "Requirement already satisfied: urllib3!=1.25.0,!=1.25.1,<1.26,>=1.21.1 in c:\\users\\user\\anaconda3\\lib\\site-packages (from requests<3,>=2.21.0->tensorboard~=2.4->tensorflow) (1.25.8)\n",
      "Requirement already satisfied: chardet<3.1.0,>=3.0.2 in c:\\users\\user\\anaconda3\\lib\\site-packages (from requests<3,>=2.21.0->tensorboard~=2.4->tensorflow) (3.0.4)\n",
      "Requirement already satisfied: oauthlib>=3.0.0 in c:\\users\\user\\anaconda3\\lib\\site-packages (from requests-oauthlib>=0.7.0->google-auth-oauthlib<0.5,>=0.4.1->tensorboard~=2.4->tensorflow) (3.1.0)\n",
      "Requirement already satisfied: zipp>=0.5 in c:\\users\\user\\anaconda3\\lib\\site-packages (from importlib-metadata->markdown>=2.6.8->tensorboard~=2.4->tensorflow) (2.2.0)\n",
      "Note: you may need to restart the kernel to use updated packages.\n"
     ]
    }
   ],
   "source": [
    "pip install tensorflow"
   ]
  },
  {
   "cell_type": "code",
   "execution_count": 3,
   "metadata": {},
   "outputs": [],
   "source": [
    "import numpy as np\n",
    "import pandas as pd\n",
    "import matplotlib.pyplot as plt\n",
    "import seaborn as sn\n",
    "\n",
    "from sklearn.metrics import confusion_matrix\n",
    "\n",
    "from keras.datasets import fashion_mnist\n",
    "from keras.utils import plot_model\n",
    "from keras.layers import Dense\n",
    "from keras.models import Sequential\n",
    "from keras.utils import to_categorical\n",
    "from keras.optimizers import SGD, RMSprop, Adam\n",
    "\n",
    "import tensorflow as tf\n",
    "import itertools\n",
    "\n",
    "%matplotlib inline"
   ]
  },
  {
   "cell_type": "code",
   "execution_count": 4,
   "metadata": {},
   "outputs": [
    {
     "name": "stdout",
     "output_type": "stream",
     "text": [
      "Downloading data from https://storage.googleapis.com/tensorflow/tf-keras-datasets/train-labels-idx1-ubyte.gz\n",
      "32768/29515 [=================================] - 0s 2us/step\n",
      "Downloading data from https://storage.googleapis.com/tensorflow/tf-keras-datasets/train-images-idx3-ubyte.gz\n",
      "26427392/26421880 [==============================] - 22s 1us/step\n",
      "Downloading data from https://storage.googleapis.com/tensorflow/tf-keras-datasets/t10k-labels-idx1-ubyte.gz\n",
      "8192/5148 [===============================================] - 0s 0us/step\n",
      "Downloading data from https://storage.googleapis.com/tensorflow/tf-keras-datasets/t10k-images-idx3-ubyte.gz\n",
      "4423680/4422102 [==============================] - 3s 1us/step\n",
      "(60000, 28, 28) (10000, 28, 28)\n",
      "(60000,)\n"
     ]
    }
   ],
   "source": [
    "(X_train, y_train_labels), (X_test, y_test_labels) = fashion_mnist.load_data()\n",
    "print(X_train.shape, X_test.shape)\n",
    "print(y_train_labels.shape)"
   ]
  },
  {
   "cell_type": "code",
   "execution_count": 5,
   "metadata": {},
   "outputs": [
    {
     "name": "stdout",
     "output_type": "stream",
     "text": [
      "Label is 2\n"
     ]
    },
    {
     "data": {
      "image/png": "[encoded data removed]",
      "text/plain": [
       "<Figure size 432x288 with 1 Axes>"
      ]
     },
     "metadata": {
      "needs_background": "light"
     },
     "output_type": "display_data"
    }
   ],
   "source": [
    "ind = np.random.randint(0, X_train.shape[0])\n",
    "plt.imshow(X_train[ind], cmap='gray')\n",
    "print(f'Label is {y_train_labels[ind]}')"
   ]
  },
  {
   "cell_type": "code",
   "execution_count": 6,
   "metadata": {},
   "outputs": [
    {
     "data": {
      "text/plain": [
       "(0, 255)"
      ]
     },
     "execution_count": 6,
     "metadata": {},
     "output_type": "execute_result"
    }
   ],
   "source": [
    "X_train.min(), X_train.max()"
   ]
  },
  {
   "cell_type": "code",
   "execution_count": 7,
   "metadata": {},
   "outputs": [
    {
     "data": {
      "text/plain": [
       "(0.0, 1.0)"
      ]
     },
     "execution_count": 7,
     "metadata": {},
     "output_type": "execute_result"
    }
   ],
   "source": [
    "# Нормировка\n",
    "X_train = X_train / 255.0\n",
    "X_test = X_test / 255.0\n",
    "X_train.min(), X_train.max()"
   ]
  },
  {
   "cell_type": "code",
   "execution_count": 8,
   "metadata": {},
   "outputs": [
    {
     "data": {
      "text/plain": [
       "((60000, 784), (10000, 784))"
      ]
     },
     "execution_count": 8,
     "metadata": {},
     "output_type": "execute_result"
    }
   ],
   "source": [
    "# Вытягивание признаков\n",
    "X_train = X_train.reshape((-1, 28 * 28))\n",
    "X_test = X_test.reshape((-1, 28 * 28))\n",
    "\n",
    "X_train.shape, X_test.shape"
   ]
  },
  {
   "cell_type": "code",
   "execution_count": 9,
   "metadata": {},
   "outputs": [
    {
     "data": {
      "text/plain": [
       "array([9, 0, 0, 3, 0], dtype=uint8)"
      ]
     },
     "execution_count": 9,
     "metadata": {},
     "output_type": "execute_result"
    }
   ],
   "source": [
    "# передача данных\n",
    "y_train_labels[:5]"
   ]
  },
  {
   "cell_type": "code",
   "execution_count": 10,
   "metadata": {},
   "outputs": [
    {
     "data": {
      "text/plain": [
       "array([[0., 0., 0., 0., 0., 0., 0., 0., 0., 1.],\n",
       "       [1., 0., 0., 0., 0., 0., 0., 0., 0., 0.],\n",
       "       [1., 0., 0., 0., 0., 0., 0., 0., 0., 0.],\n",
       "       [0., 0., 0., 1., 0., 0., 0., 0., 0., 0.],\n",
       "       [1., 0., 0., 0., 0., 0., 0., 0., 0., 0.]], dtype=float32)"
      ]
     },
     "execution_count": 10,
     "metadata": {},
     "output_type": "execute_result"
    }
   ],
   "source": [
    "y_train = to_categorical(y_train_labels)\n",
    "y_test = to_categorical(y_test_labels)\n",
    "\n",
    "y_train[:5]"
   ]
  },
  {
   "cell_type": "markdown",
   "metadata": {},
   "source": [
    "Задание 1."
   ]
  },
  {
   "cell_type": "code",
   "execution_count": 11,
   "metadata": {},
   "outputs": [
    {
     "name": "stdout",
     "output_type": "stream",
     "text": [
      "Model: \"sequential\"\n",
      "_________________________________________________________________\n",
      "Layer (type)                 Output Shape              Param #   \n",
      "=================================================================\n",
      "dense (Dense)                (None, 64)                50240     \n",
      "_________________________________________________________________\n",
      "dense_1 (Dense)              (None, 1)                 65        \n",
      "_________________________________________________________________\n",
      "dense_2 (Dense)              (None, 10)                20        \n",
      "=================================================================\n",
      "Total params: 50,325\n",
      "Trainable params: 50,325\n",
      "Non-trainable params: 0\n",
      "_________________________________________________________________\n",
      "Epoch 1/5\n",
      "938/938 [==============================] - 2s 2ms/step - loss: 2.1671 - accuracy: 0.1762 - val_loss: 1.9452 - val_accuracy: 0.2254\n",
      "Epoch 2/5\n",
      "938/938 [==============================] - 1s 1ms/step - loss: 1.9078 - accuracy: 0.2278 - val_loss: 1.8257 - val_accuracy: 0.2636\n",
      "Epoch 3/5\n",
      "938/938 [==============================] - 1s 1ms/step - loss: 1.7963 - accuracy: 0.2708 - val_loss: 1.7270 - val_accuracy: 0.2832\n",
      "Epoch 4/5\n",
      "938/938 [==============================] - 1s 1ms/step - loss: 1.7070 - accuracy: 0.2875 - val_loss: 1.6632 - val_accuracy: 0.2927\n",
      "Epoch 5/5\n",
      "938/938 [==============================] - 1s 1ms/step - loss: 1.6516 - accuracy: 0.2968 - val_loss: 1.6206 - val_accuracy: 0.2972\n",
      "938/938 [==============================] - 1s 776us/step - loss: 1.6172 - accuracy: 0.2989\n",
      "157/157 [==============================] - 0s 792us/step - loss: 1.6206 - accuracy: 0.2972\n",
      "Model: \"sequential_1\"\n",
      "_________________________________________________________________\n",
      "Layer (type)                 Output Shape              Param #   \n",
      "=================================================================\n",
      "dense_3 (Dense)              (None, 64)                50240     \n",
      "_________________________________________________________________\n",
      "dense_4 (Dense)              (None, 2)                 130       \n",
      "_________________________________________________________________\n",
      "dense_5 (Dense)              (None, 10)                30        \n",
      "=================================================================\n",
      "Total params: 50,400\n",
      "Trainable params: 50,400\n",
      "Non-trainable params: 0\n",
      "_________________________________________________________________\n",
      "Epoch 1/5\n",
      "938/938 [==============================] - 1s 1ms/step - loss: 2.0694 - accuracy: 0.2101 - val_loss: 1.7970 - val_accuracy: 0.3554\n",
      "Epoch 2/5\n",
      "938/938 [==============================] - 1s 1ms/step - loss: 1.7319 - accuracy: 0.3732 - val_loss: 1.5762 - val_accuracy: 0.3767\n",
      "Epoch 3/5\n",
      "938/938 [==============================] - 1s 1ms/step - loss: 1.5278 - accuracy: 0.3936 - val_loss: 1.4442 - val_accuracy: 0.4081\n",
      "Epoch 4/5\n",
      "938/938 [==============================] - 1s 1ms/step - loss: 1.4122 - accuracy: 0.4214 - val_loss: 1.3714 - val_accuracy: 0.4325\n",
      "Epoch 5/5\n",
      "938/938 [==============================] - 1s 1ms/step - loss: 1.3456 - accuracy: 0.4494 - val_loss: 1.3153 - val_accuracy: 0.4629\n",
      "938/938 [==============================] - 1s 756us/step - loss: 1.3013 - accuracy: 0.4637\n",
      "157/157 [==============================] - 0s 759us/step - loss: 1.3153 - accuracy: 0.4629\n",
      "Model: \"sequential_2\"\n",
      "_________________________________________________________________\n",
      "Layer (type)                 Output Shape              Param #   \n",
      "=================================================================\n",
      "dense_6 (Dense)              (None, 64)                50240     \n",
      "_________________________________________________________________\n",
      "dense_7 (Dense)              (None, 4)                 260       \n",
      "_________________________________________________________________\n",
      "dense_8 (Dense)              (None, 10)                50        \n",
      "=================================================================\n",
      "Total params: 50,550\n",
      "Trainable params: 50,550\n",
      "Non-trainable params: 0\n",
      "_________________________________________________________________\n",
      "Epoch 1/5\n",
      "938/938 [==============================] - 1s 1ms/step - loss: 1.8523 - accuracy: 0.3401 - val_loss: 1.1830 - val_accuracy: 0.5925\n",
      "Epoch 2/5\n",
      "938/938 [==============================] - 1s 1ms/step - loss: 1.0769 - accuracy: 0.6363 - val_loss: 0.9190 - val_accuracy: 0.6952\n",
      "Epoch 3/5\n",
      "938/938 [==============================] - 1s 1ms/step - loss: 0.8617 - accuracy: 0.7144 - val_loss: 0.7848 - val_accuracy: 0.7397\n",
      "Epoch 4/5\n",
      "938/938 [==============================] - 1s 1ms/step - loss: 0.7412 - accuracy: 0.7501 - val_loss: 0.6883 - val_accuracy: 0.7666\n",
      "Epoch 5/5\n",
      "938/938 [==============================] - 1s 1ms/step - loss: 0.6533 - accuracy: 0.7757 - val_loss: 0.6386 - val_accuracy: 0.7834\n",
      "938/938 [==============================] - 1s 768us/step - loss: 0.6069 - accuracy: 0.7921\n",
      "157/157 [==============================] - 0s 999us/step - loss: 0.6386 - accuracy: 0.7834\n",
      "Model: \"sequential_3\"\n",
      "_________________________________________________________________\n",
      "Layer (type)                 Output Shape              Param #   \n",
      "=================================================================\n",
      "dense_9 (Dense)              (None, 64)                50240     \n",
      "_________________________________________________________________\n",
      "dense_10 (Dense)             (None, 8)                 520       \n",
      "_________________________________________________________________\n",
      "dense_11 (Dense)             (None, 10)                90        \n",
      "=================================================================\n",
      "Total params: 50,850\n",
      "Trainable params: 50,850\n",
      "Non-trainable params: 0\n",
      "_________________________________________________________________\n",
      "Epoch 1/5\n",
      "938/938 [==============================] - 2s 1ms/step - loss: 1.8826 - accuracy: 0.2893 - val_loss: 0.8669 - val_accuracy: 0.7069\n",
      "Epoch 2/5\n",
      "938/938 [==============================] - 1s 1ms/step - loss: 0.7630 - accuracy: 0.7450 - val_loss: 0.6599 - val_accuracy: 0.7655\n",
      "Epoch 3/5\n",
      "938/938 [==============================] - 1s 1ms/step - loss: 0.6167 - accuracy: 0.7823 - val_loss: 0.6042 - val_accuracy: 0.7900\n",
      "Epoch 4/5\n",
      "938/938 [==============================] - 1s 1ms/step - loss: 0.5676 - accuracy: 0.8012 - val_loss: 0.5775 - val_accuracy: 0.7923\n",
      "Epoch 5/5\n",
      "938/938 [==============================] - 1s 1ms/step - loss: 0.5384 - accuracy: 0.8094 - val_loss: 0.5538 - val_accuracy: 0.8039\n",
      "938/938 [==============================] - 1s 751us/step - loss: 0.5178 - accuracy: 0.8189\n",
      "157/157 [==============================] - 0s 850us/step - loss: 0.5538 - accuracy: 0.8039\n",
      "Model: \"sequential_4\"\n",
      "_________________________________________________________________\n",
      "Layer (type)                 Output Shape              Param #   \n",
      "=================================================================\n",
      "dense_12 (Dense)             (None, 64)                50240     \n",
      "_________________________________________________________________\n",
      "dense_13 (Dense)             (None, 16)                1040      \n",
      "_________________________________________________________________\n",
      "dense_14 (Dense)             (None, 10)                170       \n",
      "=================================================================\n",
      "Total params: 51,450\n",
      "Trainable params: 51,450\n",
      "Non-trainable params: 0\n",
      "_________________________________________________________________\n",
      "Epoch 1/5\n",
      "938/938 [==============================] - 2s 1ms/step - loss: 1.3465 - accuracy: 0.5592 - val_loss: 0.6656 - val_accuracy: 0.7540\n",
      "Epoch 2/5\n",
      "938/938 [==============================] - 1s 1ms/step - loss: 0.6052 - accuracy: 0.7878 - val_loss: 0.5745 - val_accuracy: 0.7946\n",
      "Epoch 3/5\n",
      "938/938 [==============================] - 1s 1ms/step - loss: 0.5319 - accuracy: 0.8134 - val_loss: 0.5257 - val_accuracy: 0.8151\n",
      "Epoch 4/5\n",
      "938/938 [==============================] - 1s 1ms/step - loss: 0.4971 - accuracy: 0.8250 - val_loss: 0.5133 - val_accuracy: 0.8140\n",
      "Epoch 5/5\n",
      "938/938 [==============================] - 1s 1ms/step - loss: 0.4692 - accuracy: 0.8364 - val_loss: 0.5069 - val_accuracy: 0.8198\n",
      "938/938 [==============================] - 1s 739us/step - loss: 0.4709 - accuracy: 0.8347\n",
      "157/157 [==============================] - 0s 815us/step - loss: 0.5069 - accuracy: 0.8198\n",
      "Model: \"sequential_5\"\n",
      "_________________________________________________________________\n",
      "Layer (type)                 Output Shape              Param #   \n",
      "=================================================================\n",
      "dense_15 (Dense)             (None, 64)                50240     \n",
      "_________________________________________________________________\n",
      "dense_16 (Dense)             (None, 32)                2080      \n",
      "_________________________________________________________________\n",
      "dense_17 (Dense)             (None, 10)                330       \n",
      "=================================================================\n",
      "Total params: 52,650\n",
      "Trainable params: 52,650\n",
      "Non-trainable params: 0\n",
      "_________________________________________________________________\n",
      "Epoch 1/5\n",
      "938/938 [==============================] - 2s 1ms/step - loss: 1.3037 - accuracy: 0.5879 - val_loss: 0.6625 - val_accuracy: 0.7713\n",
      "Epoch 2/5\n",
      "938/938 [==============================] - 1s 1ms/step - loss: 0.5809 - accuracy: 0.8032 - val_loss: 0.5394 - val_accuracy: 0.8145\n",
      "Epoch 3/5\n",
      "938/938 [==============================] - 1s 1ms/step - loss: 0.5092 - accuracy: 0.8248 - val_loss: 0.5085 - val_accuracy: 0.8195\n",
      "Epoch 4/5\n",
      "938/938 [==============================] - 1s 1ms/step - loss: 0.4673 - accuracy: 0.8342 - val_loss: 0.4903 - val_accuracy: 0.8240\n",
      "Epoch 5/5\n",
      "938/938 [==============================] - 1s 1ms/step - loss: 0.4469 - accuracy: 0.8427 - val_loss: 0.4671 - val_accuracy: 0.8304\n",
      "938/938 [==============================] - 1s 779us/step - loss: 0.4291 - accuracy: 0.8486\n",
      "157/157 [==============================] - 0s 824us/step - loss: 0.4671 - accuracy: 0.8304\n",
      "Model: \"sequential_6\"\n",
      "_________________________________________________________________\n",
      "Layer (type)                 Output Shape              Param #   \n",
      "=================================================================\n",
      "dense_18 (Dense)             (None, 64)                50240     \n",
      "_________________________________________________________________\n",
      "dense_19 (Dense)             (None, 64)                4160      \n",
      "_________________________________________________________________\n",
      "dense_20 (Dense)             (None, 10)                650       \n",
      "=================================================================\n",
      "Total params: 55,050\n",
      "Trainable params: 55,050\n",
      "Non-trainable params: 0\n",
      "_________________________________________________________________\n",
      "Epoch 1/5\n",
      "938/938 [==============================] - 2s 2ms/step - loss: 1.3864 - accuracy: 0.5302 - val_loss: 0.6506 - val_accuracy: 0.7766\n",
      "Epoch 2/5\n",
      "938/938 [==============================] - 1s 1ms/step - loss: 0.5990 - accuracy: 0.7950 - val_loss: 0.5724 - val_accuracy: 0.7975\n",
      "Epoch 3/5\n",
      "938/938 [==============================] - 1s 1ms/step - loss: 0.5152 - accuracy: 0.8228 - val_loss: 0.5470 - val_accuracy: 0.7982\n",
      "Epoch 4/5\n",
      "938/938 [==============================] - 1s 1ms/step - loss: 0.4829 - accuracy: 0.8315 - val_loss: 0.4868 - val_accuracy: 0.8280\n",
      "Epoch 5/5\n",
      "938/938 [==============================] - 1s 1ms/step - loss: 0.4492 - accuracy: 0.8428 - val_loss: 0.4712 - val_accuracy: 0.8317\n",
      "938/938 [==============================] - 1s 772us/step - loss: 0.4372 - accuracy: 0.8467\n",
      "157/157 [==============================] - 0s 814us/step - loss: 0.4712 - accuracy: 0.8317\n",
      "Model: \"sequential_7\"\n",
      "_________________________________________________________________\n",
      "Layer (type)                 Output Shape              Param #   \n",
      "=================================================================\n",
      "dense_21 (Dense)             (None, 64)                50240     \n",
      "_________________________________________________________________\n",
      "dense_22 (Dense)             (None, 128)               8320      \n",
      "_________________________________________________________________\n",
      "dense_23 (Dense)             (None, 10)                1290      \n",
      "=================================================================\n",
      "Total params: 59,850\n",
      "Trainable params: 59,850\n",
      "Non-trainable params: 0\n",
      "_________________________________________________________________\n",
      "Epoch 1/5\n",
      "938/938 [==============================] - 2s 2ms/step - loss: 1.3643 - accuracy: 0.5767 - val_loss: 0.6658 - val_accuracy: 0.7734\n",
      "Epoch 2/5\n",
      "938/938 [==============================] - 1s 1ms/step - loss: 0.6096 - accuracy: 0.7914 - val_loss: 0.5713 - val_accuracy: 0.8034\n",
      "Epoch 3/5\n",
      "938/938 [==============================] - 1s 1ms/step - loss: 0.5223 - accuracy: 0.8205 - val_loss: 0.5190 - val_accuracy: 0.8171\n",
      "Epoch 4/5\n",
      "938/938 [==============================] - 1s 1ms/step - loss: 0.4870 - accuracy: 0.8286 - val_loss: 0.5133 - val_accuracy: 0.8169\n",
      "Epoch 5/5\n",
      "938/938 [==============================] - 1s 1ms/step - loss: 0.4644 - accuracy: 0.8369 - val_loss: 0.4750 - val_accuracy: 0.8314\n",
      "938/938 [==============================] - 1s 779us/step - loss: 0.4416 - accuracy: 0.8458\n",
      "157/157 [==============================] - 0s 877us/step - loss: 0.4750 - accuracy: 0.8314\n",
      "Model: \"sequential_8\"\n",
      "_________________________________________________________________\n",
      "Layer (type)                 Output Shape              Param #   \n",
      "=================================================================\n",
      "dense_24 (Dense)             (None, 64)                50240     \n",
      "_________________________________________________________________\n",
      "dense_25 (Dense)             (None, 256)               16640     \n",
      "_________________________________________________________________\n",
      "dense_26 (Dense)             (None, 10)                2570      \n",
      "=================================================================\n",
      "Total params: 69,450\n",
      "Trainable params: 69,450\n",
      "Non-trainable params: 0\n",
      "_________________________________________________________________\n",
      "Epoch 1/5\n",
      "938/938 [==============================] - 2s 1ms/step - loss: 1.3401 - accuracy: 0.5806 - val_loss: 0.6609 - val_accuracy: 0.7721\n",
      "Epoch 2/5\n",
      "938/938 [==============================] - 1s 1ms/step - loss: 0.6056 - accuracy: 0.7893 - val_loss: 0.5584 - val_accuracy: 0.8049\n",
      "Epoch 3/5\n",
      "938/938 [==============================] - 1s 1ms/step - loss: 0.5304 - accuracy: 0.8152 - val_loss: 0.5312 - val_accuracy: 0.8135\n",
      "Epoch 4/5\n",
      "938/938 [==============================] - 1s 1ms/step - loss: 0.4895 - accuracy: 0.8298 - val_loss: 0.5081 - val_accuracy: 0.8198\n",
      "Epoch 5/5\n",
      "938/938 [==============================] - 1s 1ms/step - loss: 0.4717 - accuracy: 0.8353 - val_loss: 0.5027 - val_accuracy: 0.8200\n",
      "938/938 [==============================] - 1s 836us/step - loss: 0.4686 - accuracy: 0.8341\n",
      "157/157 [==============================] - 0s 863us/step - loss: 0.5027 - accuracy: 0.8200\n",
      "Model: \"sequential_9\"\n",
      "_________________________________________________________________\n",
      "Layer (type)                 Output Shape              Param #   \n",
      "=================================================================\n",
      "dense_27 (Dense)             (None, 64)                50240     \n",
      "_________________________________________________________________\n",
      "dense_28 (Dense)             (None, 512)               33280     \n",
      "_________________________________________________________________\n",
      "dense_29 (Dense)             (None, 10)                5130      \n",
      "=================================================================\n",
      "Total params: 88,650\n",
      "Trainable params: 88,650\n",
      "Non-trainable params: 0\n",
      "_________________________________________________________________\n",
      "Epoch 1/5\n",
      "938/938 [==============================] - 2s 2ms/step - loss: 1.4149 - accuracy: 0.5536 - val_loss: 0.6886 - val_accuracy: 0.7590\n",
      "Epoch 2/5\n",
      "938/938 [==============================] - 1s 2ms/step - loss: 0.6286 - accuracy: 0.7867 - val_loss: 0.5745 - val_accuracy: 0.8004\n",
      "Epoch 3/5\n",
      "938/938 [==============================] - 2s 2ms/step - loss: 0.5304 - accuracy: 0.8158 - val_loss: 0.5163 - val_accuracy: 0.8208\n",
      "Epoch 4/5\n",
      "938/938 [==============================] - 1s 1ms/step - loss: 0.4915 - accuracy: 0.8279 - val_loss: 0.5015 - val_accuracy: 0.8249\n",
      "Epoch 5/5\n",
      "938/938 [==============================] - 1s 1ms/step - loss: 0.4591 - accuracy: 0.8383 - val_loss: 0.4798 - val_accuracy: 0.8322\n",
      "938/938 [==============================] - 1s 831us/step - loss: 0.4466 - accuracy: 0.8432\n",
      "157/157 [==============================] - 0s 953us/step - loss: 0.4798 - accuracy: 0.8322\n",
      "Wall time: 1min 16s\n"
     ]
    },
    {
     "data": {
      "text/html": [
       "<div>\n",
       "<style scoped>\n",
       "    .dataframe tbody tr th:only-of-type {\n",
       "        vertical-align: middle;\n",
       "    }\n",
       "\n",
       "    .dataframe tbody tr th {\n",
       "        vertical-align: top;\n",
       "    }\n",
       "\n",
       "    .dataframe thead th {\n",
       "        text-align: right;\n",
       "    }\n",
       "</style>\n",
       "<table border=\"1\" class=\"dataframe\">\n",
       "  <thead>\n",
       "    <tr style=\"text-align: right;\">\n",
       "      <th></th>\n",
       "      <th>n_num</th>\n",
       "      <th>train_loss</th>\n",
       "      <th>test_loss</th>\n",
       "      <th>train_metric</th>\n",
       "      <th>test_metric</th>\n",
       "    </tr>\n",
       "  </thead>\n",
       "  <tbody>\n",
       "    <tr>\n",
       "      <th>9</th>\n",
       "      <td>512</td>\n",
       "      <td>0.446581</td>\n",
       "      <td>0.479828</td>\n",
       "      <td>0.843183</td>\n",
       "      <td>0.8322</td>\n",
       "    </tr>\n",
       "    <tr>\n",
       "      <th>6</th>\n",
       "      <td>64</td>\n",
       "      <td>0.437196</td>\n",
       "      <td>0.471216</td>\n",
       "      <td>0.846733</td>\n",
       "      <td>0.8317</td>\n",
       "    </tr>\n",
       "    <tr>\n",
       "      <th>7</th>\n",
       "      <td>128</td>\n",
       "      <td>0.441587</td>\n",
       "      <td>0.475047</td>\n",
       "      <td>0.845833</td>\n",
       "      <td>0.8314</td>\n",
       "    </tr>\n",
       "    <tr>\n",
       "      <th>5</th>\n",
       "      <td>32</td>\n",
       "      <td>0.429071</td>\n",
       "      <td>0.467066</td>\n",
       "      <td>0.848600</td>\n",
       "      <td>0.8304</td>\n",
       "    </tr>\n",
       "    <tr>\n",
       "      <th>8</th>\n",
       "      <td>256</td>\n",
       "      <td>0.468642</td>\n",
       "      <td>0.502723</td>\n",
       "      <td>0.834067</td>\n",
       "      <td>0.8200</td>\n",
       "    </tr>\n",
       "    <tr>\n",
       "      <th>4</th>\n",
       "      <td>16</td>\n",
       "      <td>0.470868</td>\n",
       "      <td>0.506876</td>\n",
       "      <td>0.834700</td>\n",
       "      <td>0.8198</td>\n",
       "    </tr>\n",
       "    <tr>\n",
       "      <th>3</th>\n",
       "      <td>8</td>\n",
       "      <td>0.517783</td>\n",
       "      <td>0.553825</td>\n",
       "      <td>0.818867</td>\n",
       "      <td>0.8039</td>\n",
       "    </tr>\n",
       "    <tr>\n",
       "      <th>2</th>\n",
       "      <td>4</td>\n",
       "      <td>0.606888</td>\n",
       "      <td>0.638629</td>\n",
       "      <td>0.792100</td>\n",
       "      <td>0.7834</td>\n",
       "    </tr>\n",
       "    <tr>\n",
       "      <th>1</th>\n",
       "      <td>2</td>\n",
       "      <td>1.301346</td>\n",
       "      <td>1.315343</td>\n",
       "      <td>0.463717</td>\n",
       "      <td>0.4629</td>\n",
       "    </tr>\n",
       "    <tr>\n",
       "      <th>0</th>\n",
       "      <td>1</td>\n",
       "      <td>1.617183</td>\n",
       "      <td>1.620554</td>\n",
       "      <td>0.298933</td>\n",
       "      <td>0.2972</td>\n",
       "    </tr>\n",
       "  </tbody>\n",
       "</table>\n",
       "</div>"
      ],
      "text/plain": [
       "   n_num  train_loss  test_loss  train_metric  test_metric\n",
       "9    512    0.446581   0.479828      0.843183       0.8322\n",
       "6     64    0.437196   0.471216      0.846733       0.8317\n",
       "7    128    0.441587   0.475047      0.845833       0.8314\n",
       "5     32    0.429071   0.467066      0.848600       0.8304\n",
       "8    256    0.468642   0.502723      0.834067       0.8200\n",
       "4     16    0.470868   0.506876      0.834700       0.8198\n",
       "3      8    0.517783   0.553825      0.818867       0.8039\n",
       "2      4    0.606888   0.638629      0.792100       0.7834\n",
       "1      2    1.301346   1.315343      0.463717       0.4629\n",
       "0      1    1.617183   1.620554      0.298933       0.2972"
      ]
     },
     "execution_count": 11,
     "metadata": {},
     "output_type": "execute_result"
    }
   ],
   "source": [
    "%%time\n",
    "results_num = pd.DataFrame()\n",
    "n_nums = []\n",
    "train_losses = []\n",
    "test_losses = []\n",
    "train_metrics = []\n",
    "test_metrics = []\n",
    "\n",
    "\n",
    "for n_num in list(map(lambda x: 2**x, range(0,10))):\n",
    "    \n",
    "    n_nums.append(n_num)\n",
    "    \n",
    "    model = Sequential([\n",
    "        Dense(64, input_shape=(28 * 28,), activation='relu'),\n",
    "        Dense(n_num, activation='relu'),\n",
    "        Dense(10, activation='sigmoid')\n",
    "    ])\n",
    "\n",
    "    model.summary()\n",
    "    \n",
    "    # Компиляция модели\n",
    "    model.compile(loss='categorical_crossentropy', optimizer='SGD', metrics=['accuracy'])\n",
    "    \n",
    "    history = model.fit(X_train, y_train,\n",
    "                    epochs=5,\n",
    "                    batch_size=64,\n",
    "                    verbose=1,\n",
    "                    validation_data=(X_test, y_test)\n",
    "                    )\n",
    "    train_acc = history.history['accuracy']\n",
    "    val_acc = history.history['val_accuracy']\n",
    "    \n",
    "    train_loss, train_metric = model.evaluate(X_train, y_train, batch_size=64)\n",
    "    train_losses.append(train_loss)\n",
    "    train_metrics.append(train_metric)\n",
    "    test_loss, test_metric = model.evaluate(X_test, y_test, batch_size=64)\n",
    "    test_losses.append(test_loss)\n",
    "    test_metrics.append(test_metric)\n",
    "    \n",
    "    \n",
    "results_num['n_num'] = n_nums\n",
    "results_num['train_loss'] = train_losses\n",
    "results_num['test_loss'] = test_losses\n",
    "results_num['train_metric'] = train_metrics\n",
    "results_num['test_metric'] = test_metrics\n",
    "results_num.sort_values(by='test_metric', ascending=False)"
   ]
  },
  {
   "cell_type": "code",
   "execution_count": 12,
   "metadata": {},
   "outputs": [
    {
     "data": {
      "image/png": "[encoded data removed]",
      "text/plain": [
       "<Figure size 1152x360 with 1 Axes>"
      ]
     },
     "metadata": {
      "needs_background": "light"
     },
     "output_type": "display_data"
    },
    {
     "data": {
      "image/png": "[encoded data removed]",
      "text/plain": [
       "<Figure size 1152x360 with 1 Axes>"
      ]
     },
     "metadata": {
      "needs_background": "light"
     },
     "output_type": "display_data"
    }
   ],
   "source": [
    "# Демонстрация полученных результатов\n",
    "# Диаграмма точности в зависимости от обучения\n",
    "plt.figure(figsize=(16, 5))\n",
    "plt.plot(results_num['n_num'],results_num['train_loss'], label='train')\n",
    "plt.plot(results_num['n_num'],results_num['test_loss'], label='test')\n",
    "plt.xlabel('Обучение')\n",
    "plt.ylabel('Ошибка')\n",
    "plt.show()\n",
    "\n",
    "plt.figure(figsize=(16, 5))\n",
    "plt.plot(results_num['n_num'],results_num['train_metric'], label='train')\n",
    "plt.plot(results_num['n_num'],results_num['test_metric'], label='test')\n",
    "plt.xlabel('Число нейронов скрытого слоя')\n",
    "plt.ylabel('Accuracy')\n",
    "plt.show()"
   ]
  },
  {
   "cell_type": "markdown",
   "metadata": {},
   "source": [
    "Лучшее качество на тесте получилось при 512 нейронах.\n",
    "При увеличении числа нейронов скрытого слоя качество растёт до 16, затем скорость принимает примерно стабильное значение.\n",
    "\n",
    "Проверим качество в зависимости от числа слоев (2, 3, 5, 10) при близких размерах сети (близкое число тренируемых параметров)"
   ]
  },
  {
   "cell_type": "code",
   "execution_count": 13,
   "metadata": {},
   "outputs": [
    {
     "name": "stdout",
     "output_type": "stream",
     "text": [
      "Model: \"sequential_10\"\n",
      "_________________________________________________________________\n",
      "Layer (type)                 Output Shape              Param #   \n",
      "=================================================================\n",
      "dense_30 (Dense)             (None, 64)                50240     \n",
      "_________________________________________________________________\n",
      "dense_31 (Dense)             (None, 128)               8320      \n",
      "_________________________________________________________________\n",
      "dense_32 (Dense)             (None, 10)                1290      \n",
      "=================================================================\n",
      "Total params: 59,850\n",
      "Trainable params: 59,850\n",
      "Non-trainable params: 0\n",
      "_________________________________________________________________\n",
      "Epoch 1/5\n",
      "938/938 [==============================] - 2s 1ms/step - loss: 1.3435 - accuracy: 0.5831 - val_loss: 0.6828 - val_accuracy: 0.7480\n",
      "Epoch 2/5\n",
      "938/938 [==============================] - 1s 1ms/step - loss: 0.6063 - accuracy: 0.7920 - val_loss: 0.5720 - val_accuracy: 0.8034\n",
      "Epoch 3/5\n",
      "938/938 [==============================] - 1s 1ms/step - loss: 0.5205 - accuracy: 0.8204 - val_loss: 0.5235 - val_accuracy: 0.8165\n",
      "Epoch 4/5\n",
      "938/938 [==============================] - 1s 1ms/step - loss: 0.4887 - accuracy: 0.8298 - val_loss: 0.4947 - val_accuracy: 0.8259\n",
      "Epoch 5/5\n",
      "938/938 [==============================] - 1s 1ms/step - loss: 0.4624 - accuracy: 0.8387 - val_loss: 0.4893 - val_accuracy: 0.8304\n",
      "938/938 [==============================] - 1s 781us/step - loss: 0.4593 - accuracy: 0.8403\n",
      "157/157 [==============================] - 0s 853us/step - loss: 0.4893 - accuracy: 0.8304\n",
      "Model: \"sequential_11\"\n",
      "_________________________________________________________________\n",
      "Layer (type)                 Output Shape              Param #   \n",
      "=================================================================\n",
      "dense_33 (Dense)             (None, 64)                50240     \n",
      "_________________________________________________________________\n",
      "dense_34 (Dense)             (None, 67)                4355      \n",
      "_________________________________________________________________\n",
      "dense_35 (Dense)             (None, 67)                4556      \n",
      "_________________________________________________________________\n",
      "dense_36 (Dense)             (None, 10)                680       \n",
      "=================================================================\n",
      "Total params: 59,831\n",
      "Trainable params: 59,831\n",
      "Non-trainable params: 0\n",
      "_________________________________________________________________\n",
      "Epoch 1/5\n",
      "938/938 [==============================] - 2s 1ms/step - loss: 1.4237 - accuracy: 0.5211 - val_loss: 0.6530 - val_accuracy: 0.7657\n",
      "Epoch 2/5\n",
      "938/938 [==============================] - 1s 1ms/step - loss: 0.6029 - accuracy: 0.7904 - val_loss: 0.5546 - val_accuracy: 0.8053\n",
      "Epoch 3/5\n",
      "938/938 [==============================] - 1s 1ms/step - loss: 0.5170 - accuracy: 0.8183 - val_loss: 0.5373 - val_accuracy: 0.8118\n",
      "Epoch 4/5\n",
      "938/938 [==============================] - 1s 1ms/step - loss: 0.4808 - accuracy: 0.8315 - val_loss: 0.5128 - val_accuracy: 0.8184\n",
      "Epoch 5/5\n",
      "938/938 [==============================] - 1s 1ms/step - loss: 0.4466 - accuracy: 0.8426 - val_loss: 0.4671 - val_accuracy: 0.8335\n",
      "938/938 [==============================] - 1s 807us/step - loss: 0.4318 - accuracy: 0.8488\n",
      "157/157 [==============================] - 0s 825us/step - loss: 0.4671 - accuracy: 0.8335\n",
      "Model: \"sequential_12\"\n",
      "_________________________________________________________________\n",
      "Layer (type)                 Output Shape              Param #   \n",
      "=================================================================\n",
      "dense_37 (Dense)             (None, 64)                50240     \n",
      "_________________________________________________________________\n",
      "dense_38 (Dense)             (None, 45)                2925      \n",
      "_________________________________________________________________\n",
      "dense_39 (Dense)             (None, 45)                2070      \n",
      "_________________________________________________________________\n",
      "dense_40 (Dense)             (None, 45)                2070      \n",
      "_________________________________________________________________\n",
      "dense_41 (Dense)             (None, 45)                2070      \n",
      "_________________________________________________________________\n",
      "dense_42 (Dense)             (None, 10)                460       \n",
      "=================================================================\n",
      "Total params: 59,835\n",
      "Trainable params: 59,835\n",
      "Non-trainable params: 0\n",
      "_________________________________________________________________\n",
      "Epoch 1/5\n",
      "938/938 [==============================] - 2s 1ms/step - loss: 1.7203 - accuracy: 0.4042 - val_loss: 0.8046 - val_accuracy: 0.7083\n",
      "Epoch 2/5\n",
      "938/938 [==============================] - 1s 1ms/step - loss: 0.6822 - accuracy: 0.7588 - val_loss: 0.6532 - val_accuracy: 0.7675\n",
      "Epoch 3/5\n",
      "938/938 [==============================] - 1s 1ms/step - loss: 0.5573 - accuracy: 0.8020 - val_loss: 0.6052 - val_accuracy: 0.7830\n",
      "Epoch 4/5\n",
      "938/938 [==============================] - 1s 1ms/step - loss: 0.5113 - accuracy: 0.8184 - val_loss: 0.5414 - val_accuracy: 0.8058\n",
      "Epoch 5/5\n",
      "938/938 [==============================] - 1s 1ms/step - loss: 0.4838 - accuracy: 0.8265 - val_loss: 0.4847 - val_accuracy: 0.8268\n",
      "938/938 [==============================] - 1s 830us/step - loss: 0.4512 - accuracy: 0.8411\n",
      "157/157 [==============================] - 0s 776us/step - loss: 0.4847 - accuracy: 0.8268\n",
      "Model: \"sequential_13\"\n",
      "_________________________________________________________________\n",
      "Layer (type)                 Output Shape              Param #   \n",
      "=================================================================\n",
      "dense_43 (Dense)             (None, 64)                50240     \n",
      "_________________________________________________________________\n",
      "dense_44 (Dense)             (None, 30)                1950      \n",
      "_________________________________________________________________\n",
      "dense_45 (Dense)             (None, 30)                930       \n",
      "_________________________________________________________________\n",
      "dense_46 (Dense)             (None, 30)                930       \n",
      "_________________________________________________________________\n",
      "dense_47 (Dense)             (None, 30)                930       \n",
      "_________________________________________________________________\n",
      "dense_48 (Dense)             (None, 30)                930       \n",
      "_________________________________________________________________\n",
      "dense_49 (Dense)             (None, 30)                930       \n",
      "_________________________________________________________________\n",
      "dense_50 (Dense)             (None, 30)                930       \n",
      "_________________________________________________________________\n",
      "dense_51 (Dense)             (None, 30)                930       \n",
      "_________________________________________________________________\n",
      "dense_52 (Dense)             (None, 30)                930       \n",
      "_________________________________________________________________\n",
      "dense_53 (Dense)             (None, 10)                310       \n",
      "=================================================================\n",
      "Total params: 59,940\n",
      "Trainable params: 59,940\n",
      "Non-trainable params: 0\n",
      "_________________________________________________________________\n",
      "Epoch 1/5\n",
      "938/938 [==============================] - 2s 2ms/step - loss: 2.2410 - accuracy: 0.1069 - val_loss: 1.3758 - val_accuracy: 0.4001\n",
      "Epoch 2/5\n",
      "938/938 [==============================] - 1s 1ms/step - loss: 1.2255 - accuracy: 0.5077 - val_loss: 1.0498 - val_accuracy: 0.5834\n",
      "Epoch 3/5\n",
      "938/938 [==============================] - 1s 1ms/step - loss: 0.7642 - accuracy: 0.7167 - val_loss: 0.6787 - val_accuracy: 0.7547\n",
      "Epoch 4/5\n",
      "938/938 [==============================] - 1s 1ms/step - loss: 0.6266 - accuracy: 0.7763 - val_loss: 0.5916 - val_accuracy: 0.7857\n",
      "Epoch 5/5\n",
      "938/938 [==============================] - 1s 1ms/step - loss: 0.5593 - accuracy: 0.7986 - val_loss: 0.5390 - val_accuracy: 0.8064\n",
      "938/938 [==============================] - 1s 771us/step - loss: 0.5118 - accuracy: 0.8195\n",
      "157/157 [==============================] - 0s 857us/step - loss: 0.5390 - accuracy: 0.8064\n",
      "Wall time: 31.2 s\n"
     ]
    },
    {
     "data": {
      "text/html": [
       "<div>\n",
       "<style scoped>\n",
       "    .dataframe tbody tr th:only-of-type {\n",
       "        vertical-align: middle;\n",
       "    }\n",
       "\n",
       "    .dataframe tbody tr th {\n",
       "        vertical-align: top;\n",
       "    }\n",
       "\n",
       "    .dataframe thead th {\n",
       "        text-align: right;\n",
       "    }\n",
       "</style>\n",
       "<table border=\"1\" class=\"dataframe\">\n",
       "  <thead>\n",
       "    <tr style=\"text-align: right;\">\n",
       "      <th></th>\n",
       "      <th>n_layer</th>\n",
       "      <th>n_num</th>\n",
       "      <th>n_par</th>\n",
       "      <th>train_loss</th>\n",
       "      <th>test_loss</th>\n",
       "      <th>train_metric</th>\n",
       "      <th>test_metric</th>\n",
       "    </tr>\n",
       "  </thead>\n",
       "  <tbody>\n",
       "    <tr>\n",
       "      <th>1</th>\n",
       "      <td>3</td>\n",
       "      <td>67</td>\n",
       "      <td>59831</td>\n",
       "      <td>0.431802</td>\n",
       "      <td>0.467104</td>\n",
       "      <td>0.848800</td>\n",
       "      <td>0.8335</td>\n",
       "    </tr>\n",
       "    <tr>\n",
       "      <th>0</th>\n",
       "      <td>2</td>\n",
       "      <td>128</td>\n",
       "      <td>59850</td>\n",
       "      <td>0.459304</td>\n",
       "      <td>0.489256</td>\n",
       "      <td>0.840283</td>\n",
       "      <td>0.8304</td>\n",
       "    </tr>\n",
       "    <tr>\n",
       "      <th>2</th>\n",
       "      <td>5</td>\n",
       "      <td>45</td>\n",
       "      <td>59835</td>\n",
       "      <td>0.451216</td>\n",
       "      <td>0.484701</td>\n",
       "      <td>0.841133</td>\n",
       "      <td>0.8268</td>\n",
       "    </tr>\n",
       "    <tr>\n",
       "      <th>3</th>\n",
       "      <td>10</td>\n",
       "      <td>30</td>\n",
       "      <td>59940</td>\n",
       "      <td>0.511834</td>\n",
       "      <td>0.538974</td>\n",
       "      <td>0.819500</td>\n",
       "      <td>0.8064</td>\n",
       "    </tr>\n",
       "  </tbody>\n",
       "</table>\n",
       "</div>"
      ],
      "text/plain": [
       "   n_layer  n_num  n_par  train_loss  test_loss  train_metric  test_metric\n",
       "1        3     67  59831    0.431802   0.467104      0.848800       0.8335\n",
       "0        2    128  59850    0.459304   0.489256      0.840283       0.8304\n",
       "2        5     45  59835    0.451216   0.484701      0.841133       0.8268\n",
       "3       10     30  59940    0.511834   0.538974      0.819500       0.8064"
      ]
     },
     "execution_count": 13,
     "metadata": {},
     "output_type": "execute_result"
    }
   ],
   "source": [
    "%%time\n",
    "results_layers = pd.DataFrame()\n",
    "n_nums = [] # число нейронов скрытых слоев\n",
    "n_layers = [] # число скрытых слоев\n",
    "n_pars = [] # число тренируемых параметров\n",
    "train_losses = [] # ошибка на тренировочной выборке\n",
    "test_losses = [] # ошибка на тестовой выборке\n",
    "train_metrics = [] # accuracy на тренировочной выборке\n",
    "test_metrics = [] # accuracy на тестовой выборке\n",
    "\n",
    "# Базовый размер возьмем для двухслойной сети с 128 нейронами, и будем равняться на него\n",
    "k_dict = {2:128, 3:67, 5:45, 10:30}\n",
    "for n in [2, 3, 5, 10]:\n",
    "    \n",
    "    k = k_dict[n]\n",
    "    net_size = 64 * 785 + 65 * k + (n - 2) * (k + 1) * k + (k + 1) * 10\n",
    "    n_nums.append(k) \n",
    "    n_pars.append(net_size)\n",
    "    n_layers.append(n)\n",
    "    \n",
    "    model = Sequential()\n",
    "    model.add(Dense(64, input_shape=(28 * 28,), activation='relu'))\n",
    "    for i in range(n-1):\n",
    "        model.add(Dense(k, activation='relu'))\n",
    "    model.add(Dense(10, activation='sigmoid'))\n",
    "\n",
    "    model.summary()\n",
    "    \n",
    "    # Компиляция модели\n",
    "    model.compile(loss='categorical_crossentropy', optimizer='SGD', metrics=['accuracy'])\n",
    "    \n",
    "    history = model.fit(X_train, y_train,\n",
    "                    epochs=5,\n",
    "                    batch_size=64,\n",
    "                    verbose=1,\n",
    "                    validation_data=(X_test, y_test)\n",
    "                    )\n",
    "    train_acc = history.history['accuracy']\n",
    "    val_acc = history.history['val_accuracy']\n",
    "    \n",
    "    train_loss, train_metric = model.evaluate(X_train, y_train, batch_size=64)\n",
    "    train_losses.append(train_loss)\n",
    "    train_metrics.append(train_metric)\n",
    "    test_loss, test_metric = model.evaluate(X_test, y_test, batch_size=64)\n",
    "    test_losses.append(test_loss)\n",
    "    test_metrics.append(test_metric)\n",
    "    \n",
    "    \n",
    "results_layers['n_layer'] = n_layers\n",
    "results_layers['n_num'] = n_nums\n",
    "results_layers['n_par'] = n_pars\n",
    "results_layers['train_loss'] = train_losses\n",
    "results_layers['test_loss'] = test_losses\n",
    "results_layers['train_metric'] = train_metrics\n",
    "results_layers['test_metric'] = test_metrics\n",
    "results_layers.sort_values(by='test_metric', ascending=False)"
   ]
  },
  {
   "cell_type": "code",
   "execution_count": 14,
   "metadata": {},
   "outputs": [
    {
     "data": {
      "image/png": "[encoded data removed]",
      "text/plain": [
       "<Figure size 1152x360 with 1 Axes>"
      ]
     },
     "metadata": {
      "needs_background": "light"
     },
     "output_type": "display_data"
    },
    {
     "data": {
      "image/png": "[encoded data removed]",
      "text/plain": [
       "<Figure size 1152x360 with 1 Axes>"
      ]
     },
     "metadata": {
      "needs_background": "light"
     },
     "output_type": "display_data"
    }
   ],
   "source": [
    "# Демонстрация полученных результатов\n",
    "# Диаграмма точности в зависимости от обучения\n",
    "plt.figure(figsize=(16, 5))\n",
    "plt.plot(results_layers['n_layer'],results_layers['train_loss'], label='train')\n",
    "plt.plot(results_layers['n_layer'],results_layers['test_loss'], label='test')\n",
    "plt.xlabel('Обучение')\n",
    "plt.ylabel('Ошибка')\n",
    "plt.show()\n",
    "\n",
    "plt.figure(figsize=(16, 5))\n",
    "plt.plot(results_layers['n_layer'],results_layers['train_metric'], label='train')\n",
    "plt.plot(results_layers['n_layer'],results_layers['test_metric'], label='test')\n",
    "plt.xlabel('Число слоев')\n",
    "plt.ylabel('Accuracy')\n",
    "plt.show()"
   ]
  },
  {
   "cell_type": "markdown",
   "metadata": {},
   "source": [
    "Лучшее качество получилось на 3 слоях с 67 нейронами.\n",
    "На 2, 3 и 5 слоях качество и ошибка примерно соразмерны, на 10 слоях качество гораздо хуже."
   ]
  },
  {
   "cell_type": "markdown",
   "metadata": {},
   "source": [
    "Задание 2."
   ]
  },
  {
   "cell_type": "code",
   "execution_count": 16,
   "metadata": {},
   "outputs": [
    {
     "name": "stdout",
     "output_type": "stream",
     "text": [
      "Оптимизатор: SGD\n",
      "Epoch 1/3\n",
      "938/938 [==============================] - 2s 2ms/step - loss: 1.1275 - accuracy: 0.5995 - val_loss: 0.7151 - val_accuracy: 0.7421\n",
      "Epoch 2/3\n",
      "938/938 [==============================] - 1s 1ms/step - loss: 0.6026 - accuracy: 0.7823 - val_loss: 0.6254 - val_accuracy: 0.7681\n",
      "Epoch 3/3\n",
      "938/938 [==============================] - 1s 2ms/step - loss: 0.5175 - accuracy: 0.8157 - val_loss: 0.5414 - val_accuracy: 0.8017\n",
      "157/157 [==============================] - 0s 1ms/step - loss: 0.5414 - accuracy: 0.8017\n",
      "Качество на тесте: 0.5413594245910645, 0.8016999959945679\n",
      "Оптимизатор: RMSprop\n",
      "Epoch 1/3\n",
      "938/938 [==============================] - 2s 2ms/step - loss: 0.5721 - accuracy: 0.7900 - val_loss: 0.4810 - val_accuracy: 0.8271\n",
      "Epoch 2/3\n",
      "938/938 [==============================] - 2s 2ms/step - loss: 0.4015 - accuracy: 0.8529 - val_loss: 0.4603 - val_accuracy: 0.8299\n",
      "Epoch 3/3\n",
      "938/938 [==============================] - 1s 2ms/step - loss: 0.3641 - accuracy: 0.8669 - val_loss: 0.4333 - val_accuracy: 0.8441\n",
      "157/157 [==============================] - 0s 1ms/step - loss: 0.4333 - accuracy: 0.8441\n",
      "Качество на тесте: 0.4333493709564209, 0.8440999984741211\n",
      "Оптимизатор: Adam\n",
      "Epoch 1/3\n",
      "938/938 [==============================] - 2s 2ms/step - loss: 0.5511 - accuracy: 0.8026 - val_loss: 0.4255 - val_accuracy: 0.8460\n",
      "Epoch 2/3\n",
      "938/938 [==============================] - 1s 1ms/step - loss: 0.3848 - accuracy: 0.8595 - val_loss: 0.3889 - val_accuracy: 0.8610\n",
      "Epoch 3/3\n",
      "938/938 [==============================] - 2s 2ms/step - loss: 0.3470 - accuracy: 0.8736 - val_loss: 0.3747 - val_accuracy: 0.8666\n",
      "157/157 [==============================] - 0s 1ms/step - loss: 0.3747 - accuracy: 0.8666\n",
      "Качество на тесте: 0.37465760111808777, 0.866599977016449\n"
     ]
    },
    {
     "data": {
      "image/png": "[encoded data removed]",
      "text/plain": [
       "<Figure size 1152x504 with 1 Axes>"
      ]
     },
     "metadata": {
      "needs_background": "light"
     },
     "output_type": "display_data"
    },
    {
     "name": "stdout",
     "output_type": "stream",
     "text": [
      "Wall time: 22.4 s\n"
     ]
    }
   ],
   "source": [
    "%%time\n",
    "\n",
    "# создаем модель model\n",
    "model = Sequential([\n",
    "    Dense(64, activation='relu', input_shape=(28 * 28,)),\n",
    "    Dense(67, activation='relu'),\n",
    "    Dense(67, activation='relu'),\n",
    "    Dense(67, activation='relu'),\n",
    "    Dense(67, activation='relu'),\n",
    "    Dense(10, activation='sigmoid'),\n",
    "])\n",
    "\n",
    "# сохраняем ее веса (это начальная точка) model.save_weights('model.h5')\n",
    "model.save_weights('model_weights.h5')\n",
    "\n",
    "# будем сохранять модели в словарь\n",
    "models = {}\n",
    "\n",
    "plt.figure(figsize=(16, 7))\n",
    "colors = ['g', 'b', 'r']\n",
    "\n",
    "num_epochs = 3\n",
    "batch_size = 64\n",
    "\n",
    "# вектор для вывода результатов\n",
    "epoch = np.arange(num_epochs+1)\n",
    "\n",
    "# будем изменять оптимизаторы\n",
    "for i, i_optim in enumerate([SGD(),\n",
    "                             RMSprop(),\n",
    "                             Adam()]):\n",
    "    print(f'Оптимизатор: {i_optim.get_config()[\"name\"]}')\n",
    "    \n",
    "    # создаем рабочую модель  model_i, куда будем загружать эти веса (она должна быть идентичной структуры)\n",
    "    model_i = Sequential([\n",
    "        Dense(64, activation='relu', input_shape=(28 * 28,)),\n",
    "        Dense(67, activation='relu'),\n",
    "        Dense(67, activation='relu'),\n",
    "        Dense(67, activation='relu'),\n",
    "        Dense(67, activation='relu'),\n",
    "        Dense(10, activation='sigmoid'),\n",
    "    ])\n",
    "    \n",
    "    # загружаем веса model_i.load_weights('model.h5')\n",
    "    model_i.load_weights('model_weights.h5')\n",
    "    \n",
    "    # компилируем model_i с одним из оптимизаторов\n",
    "    model_i.compile(\n",
    "        optimizer=i_optim,\n",
    "        loss='categorical_crossentropy',\n",
    "        metrics=['accuracy'],\n",
    "        )\n",
    "    \n",
    "    # вычисляем ошибку для modeli без обучения\n",
    "    h0_train = model_i.evaluate(X_train, y_train, verbose=0)\n",
    "    h0_val = model_i.evaluate(X_test, y_test, verbose=0)\n",
    "\n",
    "    # проводим обучение модели \n",
    "    h = model_i.fit(X_train, y_train,\n",
    "                    epochs=num_epochs,\n",
    "                    batch_size=batch_size,\n",
    "                    validation_data=(X_test, y_test),\n",
    "                    verbose=1)\n",
    "    \n",
    "    # вычисляем ошибку для modeli после обучения\n",
    "    loss, metric = model_i.evaluate(X_test, y_test, batch_size=64)\n",
    "    print(f'Качество на тесте: {loss}, {metric}')\n",
    "    \n",
    "    # записываем обученную модель в словарь\n",
    "    models[i_optim.get_config()['name']] = model_i\n",
    "\n",
    "    \n",
    "    plt.plot(epoch, ([h0_train[0]] + h.history['accuracy']),\n",
    "             '-', c=colors[i],\n",
    "             label=model_i.optimizer.get_config()['name'] + ' train')\n",
    "    plt.plot(epoch, ([h0_val[0]] + h.history['val_accuracy']),\n",
    "             '--', c=colors[i],\n",
    "             label=f'{model_i.optimizer.get_config()[\"name\"]} val {metric:.2f}')\n",
    "\n",
    "plt.legend()\n",
    "plt.title('нейросети от оптимизатора accuracy')\n",
    "plt.xlabel('epoch')\n",
    "plt.ylabel('accuracy')\n",
    "plt.show()"
   ]
  },
  {
   "cell_type": "markdown",
   "metadata": {},
   "source": [
    "Задание 3."
   ]
  },
  {
   "cell_type": "markdown",
   "metadata": {},
   "source": [
    "Итоговое качество на тестовой выборке получилось 0.8665 благодаря \n",
    "подбору оптимального количества скрытых слоев (3) и количества нейронов на них (67), а также выбору оптимизатора (Adam)."
   ]
  },
  {
   "cell_type": "code",
   "execution_count": 17,
   "metadata": {},
   "outputs": [],
   "source": [
    "model_i = models['Adam']"
   ]
  },
  {
   "cell_type": "code",
   "execution_count": 18,
   "metadata": {},
   "outputs": [
    {
     "data": {
      "text/plain": [
       "{'name': 'Adam',\n",
       " 'learning_rate': 0.001,\n",
       " 'decay': 0.0,\n",
       " 'beta_1': 0.9,\n",
       " 'beta_2': 0.999,\n",
       " 'epsilon': 1e-07,\n",
       " 'amsgrad': False}"
      ]
     },
     "execution_count": 18,
     "metadata": {},
     "output_type": "execute_result"
    }
   ],
   "source": [
    "model_i.optimizer.get_config()"
   ]
  },
  {
   "cell_type": "code",
   "execution_count": 19,
   "metadata": {},
   "outputs": [
    {
     "data": {
      "image/png": "[encoded data removed]",
      "text/plain": [
       "<Figure size 648x216 with 3 Axes>"
      ]
     },
     "metadata": {
      "needs_background": "light"
     },
     "output_type": "display_data"
    }
   ],
   "source": [
    "N = 3\n",
    "y_pred = model_i.predict(X_test[:N, :])\n",
    "y_pred_class = np.argmax(y_pred, axis=1)\n",
    "plt.figure(figsize=(3 * N, 3))\n",
    "\n",
    "for i in range(N):\n",
    "  plt.subplot(1, N, i+1)\n",
    "  plt.imshow(X_test[i,:].reshape(28, 28))\n",
    "  #plt.xlabel(str(y_pred_class[i]))\n",
    "  plt.xlabel(str(y_test_labels[i]))\n",
    "plt.show()"
   ]
  },
  {
   "cell_type": "markdown",
   "metadata": {},
   "source": [
    "Задание 4."
   ]
  },
  {
   "cell_type": "code",
   "execution_count": 20,
   "metadata": {},
   "outputs": [],
   "source": [
    "y_pred = model_i.predict(X_test)\n",
    "y_pred_class = np.argmax(y_pred, axis=1)"
   ]
  },
  {
   "cell_type": "code",
   "execution_count": 21,
   "metadata": {},
   "outputs": [],
   "source": [
    "def plot_confusion_matrix(cm, classes,\n",
    "                          normalize=False,\n",
    "                          title='Confusion matrix',\n",
    "                          cmap=plt.cm.Blues):\n",
    "\n",
    "    plt.imshow(cm, interpolation='nearest', cmap=cmap)\n",
    "    plt.title(title)\n",
    "    plt.colorbar()\n",
    "    tick_marks = np.arange(len(classes))\n",
    "    plt.xticks(tick_marks, classes, rotation=45)\n",
    "    plt.yticks(tick_marks, classes)\n",
    "\n",
    "    if normalize:\n",
    "        cm = cm.astype('float') / cm.sum(axis=1)[:, np.newaxis]\n",
    "        print(\"Normalized confusion matrix\")\n",
    "    else:\n",
    "        print('Confusion matrix, without normalization')\n",
    "\n",
    "    #print(cm)\n",
    "\n",
    "    thresh = cm.max() / 2.\n",
    "    for i, j in itertools.product(range(cm.shape[0]), range(cm.shape[1])):\n",
    "        plt.text(j, i, cm[i, j],\n",
    "                 horizontalalignment=\"center\",\n",
    "                 color=\"white\" if cm[i, j] > thresh else \"black\")\n",
    "\n",
    "    plt.tight_layout()\n",
    "    plt.ylabel('True label')\n",
    "    plt.xlabel('Predicted label')"
   ]
  },
  {
   "cell_type": "code",
   "execution_count": 22,
   "metadata": {},
   "outputs": [
    {
     "name": "stdout",
     "output_type": "stream",
     "text": [
      "Confusion matrix, without normalization\n"
     ]
    },
    {
     "data": {
      "image/png": "[encoded data removed]",
      "text/plain": [
       "<Figure size 720x576 with 2 Axes>"
      ]
     },
     "metadata": {
      "needs_background": "light"
     },
     "output_type": "display_data"
    }
   ],
   "source": [
    "font = {'size' : 15}\n",
    "\n",
    "plt.rc('font', **font)\n",
    "\n",
    "cnf_matrix = confusion_matrix(y_test_labels, y_pred_class)\n",
    "plt.figure(figsize=(10, 8))\n",
    "plot_confusion_matrix(cnf_matrix, classes=['0', '1', '2', '3', '4', '5', '6', '7', '8', '9'],\n",
    "                      title='Confusion matrix', normalize=False)\n",
    "plt.show()"
   ]
  },
  {
   "cell_type": "code",
   "execution_count": 23,
   "metadata": {},
   "outputs": [],
   "source": [
    "def get_precision_and_recall_from_confusion_matrix(label, cnf_matrix):\n",
    "    str_sum = 0\n",
    "    col_sum = 0\n",
    "    for i in range(len(cnf_matrix)):\n",
    "        str_sum += cnf_matrix[label][i]\n",
    "        col_sum += cnf_matrix[i][label]\n",
    "        \n",
    "    return cnf_matrix[label][label] / str_sum, cnf_matrix[label][label] / col_sum"
   ]
  },
  {
   "cell_type": "code",
   "execution_count": 24,
   "metadata": {},
   "outputs": [],
   "source": [
    "pr_rc_result = pd.DataFrame()\n",
    "precisions = []\n",
    "recalls = []\n",
    "labels = [0, 1, 2, 3, 4, 5, 6, 7, 8, 9]\n",
    "for l in labels:\n",
    "    p_r = get_precision_and_recall_from_confusion_matrix(l, cnf_matrix)\n",
    "    precisions.append(p_r[0])\n",
    "    recalls.append(p_r[1])\n",
    "pr_rc_result['label'] = labels\n",
    "pr_rc_result['precision'] = precisions\n",
    "pr_rc_result['recall'] = recalls"
   ]
  },
  {
   "cell_type": "code",
   "execution_count": 25,
   "metadata": {},
   "outputs": [
    {
     "data": {
      "text/html": [
       "<div>\n",
       "<style scoped>\n",
       "    .dataframe tbody tr th:only-of-type {\n",
       "        vertical-align: middle;\n",
       "    }\n",
       "\n",
       "    .dataframe tbody tr th {\n",
       "        vertical-align: top;\n",
       "    }\n",
       "\n",
       "    .dataframe thead th {\n",
       "        text-align: right;\n",
       "    }\n",
       "</style>\n",
       "<table border=\"1\" class=\"dataframe\">\n",
       "  <thead>\n",
       "    <tr style=\"text-align: right;\">\n",
       "      <th></th>\n",
       "      <th>label</th>\n",
       "      <th>precision</th>\n",
       "      <th>recall</th>\n",
       "    </tr>\n",
       "  </thead>\n",
       "  <tbody>\n",
       "    <tr>\n",
       "      <th>8</th>\n",
       "      <td>8</td>\n",
       "      <td>0.977</td>\n",
       "      <td>0.948544</td>\n",
       "    </tr>\n",
       "    <tr>\n",
       "      <th>7</th>\n",
       "      <td>7</td>\n",
       "      <td>0.949</td>\n",
       "      <td>0.929481</td>\n",
       "    </tr>\n",
       "    <tr>\n",
       "      <th>9</th>\n",
       "      <td>9</td>\n",
       "      <td>0.946</td>\n",
       "      <td>0.939424</td>\n",
       "    </tr>\n",
       "    <tr>\n",
       "      <th>1</th>\n",
       "      <td>1</td>\n",
       "      <td>0.941</td>\n",
       "      <td>0.996822</td>\n",
       "    </tr>\n",
       "    <tr>\n",
       "      <th>5</th>\n",
       "      <td>5</td>\n",
       "      <td>0.939</td>\n",
       "      <td>0.960123</td>\n",
       "    </tr>\n",
       "    <tr>\n",
       "      <th>3</th>\n",
       "      <td>3</td>\n",
       "      <td>0.910</td>\n",
       "      <td>0.811775</td>\n",
       "    </tr>\n",
       "    <tr>\n",
       "      <th>2</th>\n",
       "      <td>2</td>\n",
       "      <td>0.823</td>\n",
       "      <td>0.744796</td>\n",
       "    </tr>\n",
       "    <tr>\n",
       "      <th>4</th>\n",
       "      <td>4</td>\n",
       "      <td>0.797</td>\n",
       "      <td>0.775292</td>\n",
       "    </tr>\n",
       "    <tr>\n",
       "      <th>0</th>\n",
       "      <td>0</td>\n",
       "      <td>0.764</td>\n",
       "      <td>0.850780</td>\n",
       "    </tr>\n",
       "    <tr>\n",
       "      <th>6</th>\n",
       "      <td>6</td>\n",
       "      <td>0.620</td>\n",
       "      <td>0.714286</td>\n",
       "    </tr>\n",
       "  </tbody>\n",
       "</table>\n",
       "</div>"
      ],
      "text/plain": [
       "   label  precision    recall\n",
       "8      8      0.977  0.948544\n",
       "7      7      0.949  0.929481\n",
       "9      9      0.946  0.939424\n",
       "1      1      0.941  0.996822\n",
       "5      5      0.939  0.960123\n",
       "3      3      0.910  0.811775\n",
       "2      2      0.823  0.744796\n",
       "4      4      0.797  0.775292\n",
       "0      0      0.764  0.850780\n",
       "6      6      0.620  0.714286"
      ]
     },
     "execution_count": 25,
     "metadata": {},
     "output_type": "execute_result"
    }
   ],
   "source": [
    "pr_rc_result.sort_values(by='precision', ascending=False)"
   ]
  },
  {
   "cell_type": "code",
   "execution_count": 26,
   "metadata": {},
   "outputs": [
    {
     "data": {
      "text/html": [
       "<div>\n",
       "<style scoped>\n",
       "    .dataframe tbody tr th:only-of-type {\n",
       "        vertical-align: middle;\n",
       "    }\n",
       "\n",
       "    .dataframe tbody tr th {\n",
       "        vertical-align: top;\n",
       "    }\n",
       "\n",
       "    .dataframe thead th {\n",
       "        text-align: right;\n",
       "    }\n",
       "</style>\n",
       "<table border=\"1\" class=\"dataframe\">\n",
       "  <thead>\n",
       "    <tr style=\"text-align: right;\">\n",
       "      <th></th>\n",
       "      <th>label</th>\n",
       "      <th>precision</th>\n",
       "      <th>recall</th>\n",
       "    </tr>\n",
       "  </thead>\n",
       "  <tbody>\n",
       "    <tr>\n",
       "      <th>1</th>\n",
       "      <td>1</td>\n",
       "      <td>0.941</td>\n",
       "      <td>0.996822</td>\n",
       "    </tr>\n",
       "    <tr>\n",
       "      <th>5</th>\n",
       "      <td>5</td>\n",
       "      <td>0.939</td>\n",
       "      <td>0.960123</td>\n",
       "    </tr>\n",
       "    <tr>\n",
       "      <th>8</th>\n",
       "      <td>8</td>\n",
       "      <td>0.977</td>\n",
       "      <td>0.948544</td>\n",
       "    </tr>\n",
       "    <tr>\n",
       "      <th>9</th>\n",
       "      <td>9</td>\n",
       "      <td>0.946</td>\n",
       "      <td>0.939424</td>\n",
       "    </tr>\n",
       "    <tr>\n",
       "      <th>7</th>\n",
       "      <td>7</td>\n",
       "      <td>0.949</td>\n",
       "      <td>0.929481</td>\n",
       "    </tr>\n",
       "    <tr>\n",
       "      <th>0</th>\n",
       "      <td>0</td>\n",
       "      <td>0.764</td>\n",
       "      <td>0.850780</td>\n",
       "    </tr>\n",
       "    <tr>\n",
       "      <th>3</th>\n",
       "      <td>3</td>\n",
       "      <td>0.910</td>\n",
       "      <td>0.811775</td>\n",
       "    </tr>\n",
       "    <tr>\n",
       "      <th>4</th>\n",
       "      <td>4</td>\n",
       "      <td>0.797</td>\n",
       "      <td>0.775292</td>\n",
       "    </tr>\n",
       "    <tr>\n",
       "      <th>2</th>\n",
       "      <td>2</td>\n",
       "      <td>0.823</td>\n",
       "      <td>0.744796</td>\n",
       "    </tr>\n",
       "    <tr>\n",
       "      <th>6</th>\n",
       "      <td>6</td>\n",
       "      <td>0.620</td>\n",
       "      <td>0.714286</td>\n",
       "    </tr>\n",
       "  </tbody>\n",
       "</table>\n",
       "</div>"
      ],
      "text/plain": [
       "   label  precision    recall\n",
       "1      1      0.941  0.996822\n",
       "5      5      0.939  0.960123\n",
       "8      8      0.977  0.948544\n",
       "9      9      0.946  0.939424\n",
       "7      7      0.949  0.929481\n",
       "0      0      0.764  0.850780\n",
       "3      3      0.910  0.811775\n",
       "4      4      0.797  0.775292\n",
       "2      2      0.823  0.744796\n",
       "6      6      0.620  0.714286"
      ]
     },
     "execution_count": 26,
     "metadata": {},
     "output_type": "execute_result"
    }
   ],
   "source": [
    "pr_rc_result.sort_values(by='recall', ascending=False)"
   ]
  },
  {
   "cell_type": "code",
   "execution_count": 27,
   "metadata": {},
   "outputs": [],
   "source": [
    "d = {0: 'футболка/клубка',\n",
    "     1: 'Брюки',\n",
    "     2: 'Пуловер',\n",
    "     3: 'Платье',\n",
    "     4: 'Пальто',\n",
    "     5: 'Сандал',\n",
    "     6: 'Рубашка',\n",
    "     7: 'Кроссовок',\n",
    "     8: 'Сумка',\n",
    "     9: 'Ботинок'}"
   ]
  },
  {
   "cell_type": "markdown",
   "metadata": {},
   "source": [
    "Точнее всего модель предсказывает брюки, сандалии и сумки.\n",
    "Хуже всего модель предсказывает рубашки."
   ]
  },
  {
   "cell_type": "code",
   "execution_count": 28,
   "metadata": {},
   "outputs": [],
   "source": [
    "ind = []\n",
    "for i in range(10):\n",
    "    ind.append(np.where(y_test_labels == i)[0][0])"
   ]
  },
  {
   "cell_type": "code",
   "execution_count": 29,
   "metadata": {},
   "outputs": [
    {
     "data": {
      "image/png": "[encoded data removed]",
      "text/plain": [
       "<Figure size 2160x360 with 10 Axes>"
      ]
     },
     "metadata": {
      "needs_background": "light"
     },
     "output_type": "display_data"
    }
   ],
   "source": [
    "plt.figure(figsize=(3 * 10, 5))\n",
    "k = 0\n",
    "for i in ind:\n",
    "  plt.subplot(1, 10, k+1)\n",
    "  k+=1\n",
    "  plt.imshow(X_test[i,:].reshape(28, 28))\n",
    "  plt.xlabel('true:'+str(d[y_test_labels[i]])+'\\n pred:'+str(d[y_pred_class[i]]))\n",
    "plt.show()"
   ]
  },
  {
   "cell_type": "code",
   "execution_count": null,
   "metadata": {},
   "outputs": [],
   "source": []
  }
 ],
 "metadata": {
  "kernelspec": {
   "display_name": "Python 3",
   "language": "python",
   "name": "python3"
  },
  "language_info": {
   "codemirror_mode": {
    "name": "ipython",
    "version": 3
   },
   "file_extension": ".py",
   "mimetype": "text/x-python",
   "name": "python",
   "nbconvert_exporter": "python",
   "pygments_lexer": "ipython3",
   "version": "3.7.6"
  }
 },
 "nbformat": 4,
 "nbformat_minor": 4
}
