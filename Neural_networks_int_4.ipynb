{
 "cells": [
  {
   "cell_type": "code",
   "execution_count": 1,
   "metadata": {},
   "outputs": [],
   "source": [
    "import numpy as np\n",
    "import pandas as pd\n",
    "import tensorflow as tf\n",
    "import matplotlib.pyplot as plt\n",
    "\n",
    "from tensorflow.keras.models import Sequential, Model\n",
    "from tensorflow.keras.layers import Conv2D, Input\n",
    "from tensorflow.keras.layers import GlobalMaxPooling2D, MaxPooling2D, AveragePooling2D, GlobalAveragePooling2D\n",
    "from tensorflow.keras.datasets import cifar10\n",
    "from tensorflow.keras.preprocessing.image import ImageDataGenerator\n",
    "from tensorflow.keras.utils import to_categorical\n",
    "from tensorflow.keras.layers import Dense, Dropout, Activation, Flatten\n",
    "\n",
    "import os"
   ]
  },
  {
   "cell_type": "code",
   "execution_count": 2,
   "metadata": {},
   "outputs": [],
   "source": [
    "tf.random.set_seed(1)"
   ]
  },
  {
   "cell_type": "code",
   "execution_count": 3,
   "metadata": {},
   "outputs": [
    {
     "data": {
      "text/plain": [
       "[]"
      ]
     },
     "execution_count": 3,
     "metadata": {},
     "output_type": "execute_result"
    }
   ],
   "source": [
    "tf.config.list_physical_devices('GPU')"
   ]
  },
  {
   "cell_type": "code",
   "execution_count": 4,
   "metadata": {},
   "outputs": [],
   "source": [
    "results = pd.DataFrame() # сводная таблица результатов\n",
    "step = [] # шаг\n",
    "desc = [] # описание\n",
    "train_acc = [] # результат на трейне\n",
    "test_acc = [] # результат на тесте"
   ]
  },
  {
   "cell_type": "code",
   "execution_count": 5,
   "metadata": {},
   "outputs": [
    {
     "name": "stdout",
     "output_type": "stream",
     "text": [
      "X_train shape: (50000, 32, 32, 3)\n",
      "50000 тренировочные примеры\n",
      "10000 тестовые примеры\n"
     ]
    }
   ],
   "source": [
    "# установка параметров нейросети\n",
    "batch_size = 64\n",
    "num_classes = 10\n",
    "epochs = 10\n",
    "\n",
    "# разделение тренировочной и тестовой выборки\n",
    "(X_train, y_train), (X_test, y_test) = cifar10.load_data()\n",
    "print('X_train shape:', X_train.shape)\n",
    "print(X_train.shape[0], 'тренировочные примеры')\n",
    "print(X_test.shape[0], 'тестовые примеры')\n",
    "\n",
    "# преобразование матрицы чисел 0-9 в бинарную матрицу чисел 0-1\n",
    "y_train = to_categorical(y_train, num_classes)\n",
    "y_test = to_categorical(y_test, num_classes)\n",
    "\n",
    "\n",
    "X_train = X_train / 255.0\n",
    "X_test = X_test / 255.0"
   ]
  },
  {
   "cell_type": "code",
   "execution_count": 6,
   "metadata": {},
   "outputs": [],
   "source": [
    "classes = ['самолет', 'автомобиль', 'птица', 'кот', 'олень', 'собака', 'лягушка', 'лошадь', 'корабль', 'грузовик']"
   ]
  },
  {
   "cell_type": "code",
   "execution_count": 7,
   "metadata": {},
   "outputs": [
    {
     "data": {
      "image/png": "[encoded data removed]",
      "text/plain": [
       "<Figure size 432x288 with 1 Axes>"
      ]
     },
     "metadata": {
      "needs_background": "light"
     },
     "output_type": "display_data"
    }
   ],
   "source": [
    "N = 9\n",
    "\n",
    "plt.imshow(X_test[N])\n",
    "plt.title(classes[np.argmax(y_test[N,:])])\n",
    "plt.show()"
   ]
  },
  {
   "cell_type": "markdown",
   "metadata": {},
   "source": [
    "Задание 1.\n",
    "Обучить рукописную сверточную нейронную сеть (с падением размера ядра свертки и последовательностью блоков свертка-пулинг (conv-pool)-(conv-pool)-...) на датасете cifar-10"
   ]
  },
  {
   "cell_type": "code",
   "execution_count": 8,
   "metadata": {},
   "outputs": [
    {
     "name": "stdout",
     "output_type": "stream",
     "text": [
      "Model: \"sequential\"\n",
      "_________________________________________________________________\n",
      "Layer (type)                 Output Shape              Param #   \n",
      "=================================================================\n",
      "conv2d (Conv2D)              (None, 32, 32, 32)        896       \n",
      "_________________________________________________________________\n",
      "activation (Activation)      (None, 32, 32, 32)        0         \n",
      "_________________________________________________________________\n",
      "conv2d_1 (Conv2D)            (None, 30, 30, 32)        9248      \n",
      "_________________________________________________________________\n",
      "activation_1 (Activation)    (None, 30, 30, 32)        0         \n",
      "_________________________________________________________________\n",
      "max_pooling2d (MaxPooling2D) (None, 15, 15, 32)        0         \n",
      "_________________________________________________________________\n",
      "dropout (Dropout)            (None, 15, 15, 32)        0         \n",
      "_________________________________________________________________\n",
      "conv2d_2 (Conv2D)            (None, 15, 15, 64)        18496     \n",
      "_________________________________________________________________\n",
      "activation_2 (Activation)    (None, 15, 15, 64)        0         \n",
      "_________________________________________________________________\n",
      "conv2d_3 (Conv2D)            (None, 13, 13, 64)        36928     \n",
      "_________________________________________________________________\n",
      "activation_3 (Activation)    (None, 13, 13, 64)        0         \n",
      "_________________________________________________________________\n",
      "max_pooling2d_1 (MaxPooling2 (None, 6, 6, 64)          0         \n",
      "_________________________________________________________________\n",
      "dropout_1 (Dropout)          (None, 6, 6, 64)          0         \n",
      "_________________________________________________________________\n",
      "flatten (Flatten)            (None, 2304)              0         \n",
      "_________________________________________________________________\n",
      "dense (Dense)                (None, 512)               1180160   \n",
      "_________________________________________________________________\n",
      "activation_4 (Activation)    (None, 512)               0         \n",
      "_________________________________________________________________\n",
      "dropout_2 (Dropout)          (None, 512)               0         \n",
      "_________________________________________________________________\n",
      "dense_1 (Dense)              (None, 10)                5130      \n",
      "_________________________________________________________________\n",
      "activation_5 (Activation)    (None, 10)                0         \n",
      "=================================================================\n",
      "Total params: 1,250,858\n",
      "Trainable params: 1,250,858\n",
      "Non-trainable params: 0\n",
      "_________________________________________________________________\n"
     ]
    }
   ],
   "source": [
    "# конфигурирование слоев нейросети\n",
    "model_1 = Sequential()\n",
    "\n",
    "# слои нейросети отвественные за свертку и max-pooling\n",
    "model_1.add(Conv2D(32, (3, 3), padding='same', input_shape=X_train.shape[1:]))\n",
    "model_1.add(Activation('relu'))\n",
    "model_1.add(Conv2D(32, (3, 3)))\n",
    "model_1.add(Activation('relu'))\n",
    "model_1.add(MaxPooling2D(pool_size=(2, 2)))\n",
    "model_1.add(Dropout(0.25))\n",
    "\n",
    "model_1.add(Conv2D(64, (3, 3), padding='same'))\n",
    "model_1.add(Activation('relu'))\n",
    "model_1.add(Conv2D(64, (3, 3)))\n",
    "model_1.add(Activation('relu'))\n",
    "model_1.add(MaxPooling2D(pool_size=(2, 2)))\n",
    "model_1.add(Dropout(0.25))\n",
    "\n",
    "# полносвязные слои нейронной сети\n",
    "model_1.add(Flatten())\n",
    "model_1.add(Dense(512))\n",
    "model_1.add(Activation('relu'))\n",
    "model_1.add(Dropout(0.5))\n",
    "model_1.add(Dense(num_classes))\n",
    "model_1.add(Activation('softmax'))\n",
    "\n",
    "model_1.summary()\n",
    "# компиляция модели\n",
    "model_1.compile(loss='categorical_crossentropy',\n",
    "              optimizer='SGD',\n",
    "              metrics=['accuracy'])"
   ]
  },
  {
   "cell_type": "code",
   "execution_count": 9,
   "metadata": {},
   "outputs": [
    {
     "name": "stdout",
     "output_type": "stream",
     "text": [
      "Epoch 1/10\n",
      "782/782 [==============================] - 109s 139ms/step - loss: 2.2724 - accuracy: 0.1208 - val_loss: 2.0149 - val_accuracy: 0.2675\n",
      "Epoch 2/10\n",
      "782/782 [==============================] - 110s 141ms/step - loss: 2.0239 - accuracy: 0.2543 - val_loss: 2.0079 - val_accuracy: 0.2687\n",
      "Epoch 3/10\n",
      "782/782 [==============================] - 107s 137ms/step - loss: 1.8643 - accuracy: 0.3216 - val_loss: 1.7516 - val_accuracy: 0.3728\n",
      "Epoch 4/10\n",
      "782/782 [==============================] - 106s 136ms/step - loss: 1.7054 - accuracy: 0.3758 - val_loss: 1.5983 - val_accuracy: 0.4188\n",
      "Epoch 5/10\n",
      "782/782 [==============================] - 107s 137ms/step - loss: 1.6007 - accuracy: 0.4110 - val_loss: 1.5468 - val_accuracy: 0.4381\n",
      "Epoch 6/10\n",
      "782/782 [==============================] - 107s 136ms/step - loss: 1.5298 - accuracy: 0.4397 - val_loss: 1.4759 - val_accuracy: 0.4683\n",
      "Epoch 7/10\n",
      "782/782 [==============================] - 107s 136ms/step - loss: 1.4592 - accuracy: 0.4699 - val_loss: 1.3797 - val_accuracy: 0.5064\n",
      "Epoch 8/10\n",
      "782/782 [==============================] - 107s 137ms/step - loss: 1.4028 - accuracy: 0.4890 - val_loss: 1.3583 - val_accuracy: 0.5155\n",
      "Epoch 9/10\n",
      "782/782 [==============================] - 106s 136ms/step - loss: 1.3607 - accuracy: 0.5097 - val_loss: 1.2632 - val_accuracy: 0.5533\n",
      "Epoch 10/10\n",
      "782/782 [==============================] - 107s 137ms/step - loss: 1.3168 - accuracy: 0.5259 - val_loss: 1.2374 - val_accuracy: 0.5662\n"
     ]
    }
   ],
   "source": [
    "history_1 = model_1.fit(X_train, y_train,\n",
    "                        batch_size=batch_size,\n",
    "                        epochs=epochs,\n",
    "                        validation_data=(X_test, y_test))"
   ]
  },
  {
   "cell_type": "code",
   "execution_count": 10,
   "metadata": {},
   "outputs": [
    {
     "name": "stdout",
     "output_type": "stream",
     "text": [
      "1563/1563 - 20s - loss: 1.2171 - accuracy: 0.5691\n",
      "313/313 - 4s - loss: 1.2374 - accuracy: 0.5662\n",
      "train_loss: 1.2170846462249756, train_accuracy: 0.5690799951553345\n",
      "test_loss: 1.2374165058135986, test_accuracy: 0.5662000179290771\n"
     ]
    }
   ],
   "source": [
    "train_loss, train_m = model_1.evaluate(X_train, y_train, verbose=2)\n",
    "test_loss, test_m = model_1.evaluate(X_test, y_test, verbose=2)\n",
    "print(f'train_loss: {train_loss}, train_accuracy: {train_m}')\n",
    "print(f'test_loss: {test_loss}, test_accuracy: {test_m}')\n",
    "\n",
    "step.append(1)\n",
    "desc.append('Базовая модель')\n",
    "train_acc.append(round(train_m,2))\n",
    "test_acc.append(round(test_m,2))"
   ]
  },
  {
   "cell_type": "code",
   "execution_count": 11,
   "metadata": {},
   "outputs": [
    {
     "data": {
      "image/png": "[encoded data removed]",
      "text/plain": [
       "<Figure size 432x288 with 1 Axes>"
      ]
     },
     "metadata": {
      "needs_background": "light"
     },
     "output_type": "display_data"
    }
   ],
   "source": [
    "N = 5\n",
    "y_p = model_1.predict(X_test[N:N+1])\n",
    "y_t = np.argmax(y_test[N:N+1], axis = 1 )\n",
    "y_i = np.argmax(y_p, axis = 1 )\n",
    "plt.imshow(X_test[N])\n",
    "plt.title(f'это : {classes[y_t[0]]} - опознан как : {classes[y_i[0]]}')\n",
    "plt.show()"
   ]
  },
  {
   "cell_type": "markdown",
   "metadata": {},
   "source": [
    "Задание 2.\n",
    "Оценить рост точности при увеличении ширины сети (больше фильтров)"
   ]
  },
  {
   "cell_type": "code",
   "execution_count": 12,
   "metadata": {},
   "outputs": [
    {
     "name": "stdout",
     "output_type": "stream",
     "text": [
      "Model: \"sequential_1\"\n",
      "_________________________________________________________________\n",
      "Layer (type)                 Output Shape              Param #   \n",
      "=================================================================\n",
      "conv2d_4 (Conv2D)            (None, 32, 32, 32)        896       \n",
      "_________________________________________________________________\n",
      "activation_6 (Activation)    (None, 32, 32, 32)        0         \n",
      "_________________________________________________________________\n",
      "conv2d_5 (Conv2D)            (None, 30, 30, 64)        18496     \n",
      "_________________________________________________________________\n",
      "activation_7 (Activation)    (None, 30, 30, 64)        0         \n",
      "_________________________________________________________________\n",
      "max_pooling2d_2 (MaxPooling2 (None, 15, 15, 64)        0         \n",
      "_________________________________________________________________\n",
      "dropout_3 (Dropout)          (None, 15, 15, 64)        0         \n",
      "_________________________________________________________________\n",
      "conv2d_6 (Conv2D)            (None, 15, 15, 128)       73856     \n",
      "_________________________________________________________________\n",
      "activation_8 (Activation)    (None, 15, 15, 128)       0         \n",
      "_________________________________________________________________\n",
      "conv2d_7 (Conv2D)            (None, 13, 13, 256)       295168    \n",
      "_________________________________________________________________\n",
      "activation_9 (Activation)    (None, 13, 13, 256)       0         \n",
      "_________________________________________________________________\n",
      "max_pooling2d_3 (MaxPooling2 (None, 6, 6, 256)         0         \n",
      "_________________________________________________________________\n",
      "dropout_4 (Dropout)          (None, 6, 6, 256)         0         \n",
      "_________________________________________________________________\n",
      "flatten_1 (Flatten)          (None, 9216)              0         \n",
      "_________________________________________________________________\n",
      "dense_2 (Dense)              (None, 512)               4719104   \n",
      "_________________________________________________________________\n",
      "activation_10 (Activation)   (None, 512)               0         \n",
      "_________________________________________________________________\n",
      "dropout_5 (Dropout)          (None, 512)               0         \n",
      "_________________________________________________________________\n",
      "dense_3 (Dense)              (None, 10)                5130      \n",
      "_________________________________________________________________\n",
      "activation_11 (Activation)   (None, 10)                0         \n",
      "=================================================================\n",
      "Total params: 5,112,650\n",
      "Trainable params: 5,112,650\n",
      "Non-trainable params: 0\n",
      "_________________________________________________________________\n"
     ]
    }
   ],
   "source": [
    "# конфигурирование слоев нейросети\n",
    "model_2 = Sequential()\n",
    "\n",
    "# слои нейросети отвественные за свертку и max-pooling\n",
    "model_2.add(Conv2D(32, (3, 3), padding='same', input_shape=X_train.shape[1:]))\n",
    "model_2.add(Activation('relu'))\n",
    "model_2.add(Conv2D(64, (3, 3)))\n",
    "model_2.add(Activation('relu'))\n",
    "model_2.add(MaxPooling2D(pool_size=(2, 2)))\n",
    "model_2.add(Dropout(0.25))\n",
    "\n",
    "model_2.add(Conv2D(128, (3, 3), padding='same'))\n",
    "model_2.add(Activation('relu'))\n",
    "model_2.add(Conv2D(256, (3, 3)))\n",
    "model_2.add(Activation('relu'))\n",
    "model_2.add(MaxPooling2D(pool_size=(2, 2)))\n",
    "model_2.add(Dropout(0.25))\n",
    "\n",
    "# полносвязные слои нейронной сети\n",
    "model_2.add(Flatten())\n",
    "model_2.add(Dense(512))\n",
    "model_2.add(Activation('relu'))\n",
    "model_2.add(Dropout(0.5))\n",
    "model_2.add(Dense(num_classes))\n",
    "model_2.add(Activation('softmax'))\n",
    "\n",
    "model_2.summary()\n",
    "# компиляция модели\n",
    "model_2.compile(loss='categorical_crossentropy',\n",
    "              optimizer='SGD',\n",
    "              metrics=['accuracy'])"
   ]
  },
  {
   "cell_type": "code",
   "execution_count": 13,
   "metadata": {},
   "outputs": [
    {
     "name": "stdout",
     "output_type": "stream",
     "text": [
      "Epoch 1/10\n",
      "782/782 [==============================] - 268s 342ms/step - loss: 2.2428 - accuracy: 0.1483 - val_loss: 1.9748 - val_accuracy: 0.2856\n",
      "Epoch 2/10\n",
      "782/782 [==============================] - 266s 341ms/step - loss: 1.9745 - accuracy: 0.2825 - val_loss: 1.8612 - val_accuracy: 0.3386\n",
      "Epoch 3/10\n",
      "782/782 [==============================] - 265s 339ms/step - loss: 1.8326 - accuracy: 0.3420 - val_loss: 1.6444 - val_accuracy: 0.4192\n",
      "Epoch 4/10\n",
      "782/782 [==============================] - 268s 342ms/step - loss: 1.6718 - accuracy: 0.3953 - val_loss: 1.5157 - val_accuracy: 0.4519\n",
      "Epoch 5/10\n",
      "782/782 [==============================] - 265s 338ms/step - loss: 1.5571 - accuracy: 0.4353 - val_loss: 1.4356 - val_accuracy: 0.4824\n",
      "Epoch 6/10\n",
      "782/782 [==============================] - 267s 342ms/step - loss: 1.4776 - accuracy: 0.4631 - val_loss: 1.4566 - val_accuracy: 0.4860\n",
      "Epoch 7/10\n",
      "782/782 [==============================] - 266s 340ms/step - loss: 1.3935 - accuracy: 0.4985 - val_loss: 1.3276 - val_accuracy: 0.5280\n",
      "Epoch 8/10\n",
      "782/782 [==============================] - 265s 338ms/step - loss: 1.3306 - accuracy: 0.5202 - val_loss: 1.2535 - val_accuracy: 0.5484\n",
      "Epoch 9/10\n",
      "782/782 [==============================] - 266s 340ms/step - loss: 1.2785 - accuracy: 0.5446 - val_loss: 1.1745 - val_accuracy: 0.5862\n",
      "Epoch 10/10\n",
      "782/782 [==============================] - 265s 339ms/step - loss: 1.2207 - accuracy: 0.5633 - val_loss: 1.1384 - val_accuracy: 0.5966\n"
     ]
    }
   ],
   "source": [
    "history_2 = model_2.fit(X_train, y_train,\n",
    "                        batch_size=batch_size,\n",
    "                        epochs=epochs,\n",
    "                        validation_data=(X_test, y_test))"
   ]
  },
  {
   "cell_type": "code",
   "execution_count": 14,
   "metadata": {},
   "outputs": [
    {
     "name": "stdout",
     "output_type": "stream",
     "text": [
      "1563/1563 - 53s - loss: 1.1039 - accuracy: 0.6104\n",
      "313/313 - 10s - loss: 1.1384 - accuracy: 0.5966\n",
      "train_loss: 1.1039037704467773, train_accuracy: 0.6104000210762024\n",
      "test_loss: 1.138423204421997, test_accuracy: 0.5965999960899353\n"
     ]
    }
   ],
   "source": [
    "train_loss, train_m = model_2.evaluate(X_train, y_train, verbose=2)\n",
    "test_loss, test_m = model_2.evaluate(X_test, y_test, verbose=2)\n",
    "print(f'train_loss: {train_loss}, train_accuracy: {train_m}')\n",
    "print(f'test_loss: {test_loss}, test_accuracy: {test_m}')\n",
    "\n",
    "step.append(2)\n",
    "desc.append('Шире - больше каналов')\n",
    "train_acc.append(round(train_m,2))\n",
    "test_acc.append(round(test_m,2))"
   ]
  },
  {
   "cell_type": "code",
   "execution_count": 15,
   "metadata": {},
   "outputs": [
    {
     "data": {
      "image/png": "[encoded data removed]",
      "text/plain": [
       "<Figure size 432x288 with 1 Axes>"
      ]
     },
     "metadata": {
      "needs_background": "light"
     },
     "output_type": "display_data"
    }
   ],
   "source": [
    "N = 15\n",
    "y_p = model_2.predict(X_test[N:N+1])\n",
    "y_t = np.argmax(y_test[N:N+1], axis = 1 )\n",
    "y_i = np.argmax(y_p, axis = 1 )\n",
    "plt.imshow(X_test[N])\n",
    "plt.title(f'это : {classes[y_t[0]]} - опознан как : {classes[y_i[0]]}')\n",
    "plt.show()"
   ]
  },
  {
   "cell_type": "markdown",
   "metadata": {},
   "source": [
    "Задание 3.\n",
    "Оценить рост точности при увеличении глубины сети (больше слоев)"
   ]
  },
  {
   "cell_type": "code",
   "execution_count": 16,
   "metadata": {},
   "outputs": [
    {
     "name": "stdout",
     "output_type": "stream",
     "text": [
      "Model: \"sequential_2\"\n",
      "_________________________________________________________________\n",
      "Layer (type)                 Output Shape              Param #   \n",
      "=================================================================\n",
      "conv2d_8 (Conv2D)            (None, 32, 32, 32)        896       \n",
      "_________________________________________________________________\n",
      "activation_12 (Activation)   (None, 32, 32, 32)        0         \n",
      "_________________________________________________________________\n",
      "conv2d_9 (Conv2D)            (None, 30, 30, 32)        9248      \n",
      "_________________________________________________________________\n",
      "activation_13 (Activation)   (None, 30, 30, 32)        0         \n",
      "_________________________________________________________________\n",
      "max_pooling2d_4 (MaxPooling2 (None, 15, 15, 32)        0         \n",
      "_________________________________________________________________\n",
      "dropout_6 (Dropout)          (None, 15, 15, 32)        0         \n",
      "_________________________________________________________________\n",
      "conv2d_10 (Conv2D)           (None, 15, 15, 64)        18496     \n",
      "_________________________________________________________________\n",
      "activation_14 (Activation)   (None, 15, 15, 64)        0         \n",
      "_________________________________________________________________\n",
      "conv2d_11 (Conv2D)           (None, 13, 13, 64)        36928     \n",
      "_________________________________________________________________\n",
      "activation_15 (Activation)   (None, 13, 13, 64)        0         \n",
      "_________________________________________________________________\n",
      "max_pooling2d_5 (MaxPooling2 (None, 6, 6, 64)          0         \n",
      "_________________________________________________________________\n",
      "dropout_7 (Dropout)          (None, 6, 6, 64)          0         \n",
      "_________________________________________________________________\n",
      "conv2d_12 (Conv2D)           (None, 6, 6, 64)          36928     \n",
      "_________________________________________________________________\n",
      "activation_16 (Activation)   (None, 6, 6, 64)          0         \n",
      "_________________________________________________________________\n",
      "conv2d_13 (Conv2D)           (None, 4, 4, 64)          36928     \n",
      "_________________________________________________________________\n",
      "activation_17 (Activation)   (None, 4, 4, 64)          0         \n",
      "_________________________________________________________________\n",
      "max_pooling2d_6 (MaxPooling2 (None, 2, 2, 64)          0         \n",
      "_________________________________________________________________\n",
      "dropout_8 (Dropout)          (None, 2, 2, 64)          0         \n",
      "_________________________________________________________________\n",
      "flatten_2 (Flatten)          (None, 256)               0         \n",
      "_________________________________________________________________\n",
      "dense_4 (Dense)              (None, 512)               131584    \n",
      "_________________________________________________________________\n",
      "activation_18 (Activation)   (None, 512)               0         \n",
      "_________________________________________________________________\n",
      "dropout_9 (Dropout)          (None, 512)               0         \n",
      "_________________________________________________________________\n",
      "dense_5 (Dense)              (None, 10)                5130      \n",
      "_________________________________________________________________\n",
      "activation_19 (Activation)   (None, 10)                0         \n",
      "=================================================================\n",
      "Total params: 276,138\n",
      "Trainable params: 276,138\n",
      "Non-trainable params: 0\n",
      "_________________________________________________________________\n"
     ]
    }
   ],
   "source": [
    "# конфигурирование слоев нейросети\n",
    "model_3 = Sequential()\n",
    "\n",
    "# слои нейросети отвественные за свертку и max-pooling\n",
    "model_3.add(Conv2D(32, (3, 3), padding='same', input_shape=X_train.shape[1:]))\n",
    "model_3.add(Activation('relu'))\n",
    "model_3.add(Conv2D(32, (3, 3)))\n",
    "model_3.add(Activation('relu'))\n",
    "model_3.add(MaxPooling2D(pool_size=(2, 2)))\n",
    "model_3.add(Dropout(0.25))\n",
    "\n",
    "model_3.add(Conv2D(64, (3, 3), padding='same'))\n",
    "model_3.add(Activation('relu'))\n",
    "model_3.add(Conv2D(64, (3, 3)))\n",
    "model_3.add(Activation('relu'))\n",
    "model_3.add(MaxPooling2D(pool_size=(2, 2)))\n",
    "model_3.add(Dropout(0.25))\n",
    "\n",
    "model_3.add(Conv2D(64, (3, 3), padding='same'))\n",
    "model_3.add(Activation('relu'))\n",
    "model_3.add(Conv2D(64, (3, 3)))\n",
    "model_3.add(Activation('relu'))\n",
    "model_3.add(MaxPooling2D(pool_size=(2, 2)))\n",
    "model_3.add(Dropout(0.25))\n",
    "\n",
    "\n",
    "# полносвязные слои нейронной сети\n",
    "model_3.add(Flatten())\n",
    "model_3.add(Dense(512))\n",
    "model_3.add(Activation('relu'))\n",
    "model_3.add(Dropout(0.5))\n",
    "model_3.add(Dense(num_classes))\n",
    "model_3.add(Activation('softmax'))\n",
    "\n",
    "model_3.summary()\n",
    "# компиляция модели\n",
    "model_3.compile(loss='categorical_crossentropy',\n",
    "              optimizer='SGD',\n",
    "              metrics=['accuracy'])"
   ]
  },
  {
   "cell_type": "code",
   "execution_count": 17,
   "metadata": {},
   "outputs": [
    {
     "name": "stdout",
     "output_type": "stream",
     "text": [
      "Epoch 1/10\n",
      "782/782 [==============================] - 112s 142ms/step - loss: 2.2966 - accuracy: 0.1095 - val_loss: 2.1890 - val_accuracy: 0.2065\n",
      "Epoch 2/10\n",
      "782/782 [==============================] - 108s 138ms/step - loss: 2.1595 - accuracy: 0.1928 - val_loss: 2.0252 - val_accuracy: 0.2406\n",
      "Epoch 3/10\n",
      "782/782 [==============================] - 106s 136ms/step - loss: 2.0491 - accuracy: 0.2249 - val_loss: 2.1169 - val_accuracy: 0.2381\n",
      "Epoch 4/10\n",
      "782/782 [==============================] - 107s 136ms/step - loss: 1.9002 - accuracy: 0.2829 - val_loss: 1.7674 - val_accuracy: 0.3496\n",
      "Epoch 5/10\n",
      "782/782 [==============================] - 106s 136ms/step - loss: 1.8081 - accuracy: 0.3242 - val_loss: 1.6949 - val_accuracy: 0.3728\n",
      "Epoch 6/10\n",
      "782/782 [==============================] - 107s 137ms/step - loss: 1.7263 - accuracy: 0.3590 - val_loss: 1.6644 - val_accuracy: 0.3970\n",
      "Epoch 7/10\n",
      "782/782 [==============================] - 107s 136ms/step - loss: 1.6322 - accuracy: 0.3950 - val_loss: 1.5723 - val_accuracy: 0.4240\n",
      "Epoch 8/10\n",
      "782/782 [==============================] - 109s 139ms/step - loss: 1.5594 - accuracy: 0.4232 - val_loss: 1.4289 - val_accuracy: 0.4742\n",
      "Epoch 9/10\n",
      "782/782 [==============================] - 107s 136ms/step - loss: 1.4959 - accuracy: 0.4456 - val_loss: 1.4301 - val_accuracy: 0.4795\n",
      "Epoch 10/10\n",
      "782/782 [==============================] - 107s 136ms/step - loss: 1.4382 - accuracy: 0.4666 - val_loss: 1.3492 - val_accuracy: 0.5112\n"
     ]
    }
   ],
   "source": [
    "history_3 = model_3.fit(X_train, y_train,\n",
    "                        batch_size=batch_size,\n",
    "                        epochs=epochs,\n",
    "                        validation_data=(X_test, y_test))"
   ]
  },
  {
   "cell_type": "code",
   "execution_count": 18,
   "metadata": {},
   "outputs": [
    {
     "name": "stdout",
     "output_type": "stream",
     "text": [
      "1563/1563 - 21s - loss: 1.3374 - accuracy: 0.5151\n",
      "313/313 - 4s - loss: 1.3492 - accuracy: 0.5112\n",
      "train_loss: 1.3373967409133911, train_accuracy: 0.5151200294494629\n",
      "test_loss: 1.3491904735565186, test_accuracy: 0.5112000107765198\n"
     ]
    }
   ],
   "source": [
    "train_loss, train_m = model_3.evaluate(X_train, y_train, verbose=2)\n",
    "test_loss, test_m = model_3.evaluate(X_test, y_test, verbose=2)\n",
    "print(f'train_loss: {train_loss}, train_accuracy: {train_m}')\n",
    "print(f'test_loss: {test_loss}, test_accuracy: {test_m}')\n",
    "\n",
    "step.append(3)\n",
    "desc.append('Глубже - больше слоев')\n",
    "train_acc.append(round(train_m,2))\n",
    "test_acc.append(round(test_m,2))"
   ]
  },
  {
   "cell_type": "code",
   "execution_count": 19,
   "metadata": {},
   "outputs": [
    {
     "data": {
      "image/png": "[encoded data removed]",
      "text/plain": [
       "<Figure size 432x288 with 1 Axes>"
      ]
     },
     "metadata": {
      "needs_background": "light"
     },
     "output_type": "display_data"
    }
   ],
   "source": [
    "N = 20\n",
    "y_p = model_3.predict(X_test[N:N+1])\n",
    "y_t = np.argmax(y_test[N:N+1], axis = 1 )\n",
    "y_i = np.argmax(y_p, axis = 1 )\n",
    "plt.imshow(X_test[N])\n",
    "plt.title(f'это : {classes[y_t[0]]} - опознан как : {classes[y_i[0]]}')\n",
    "plt.show()"
   ]
  },
  {
   "cell_type": "code",
   "execution_count": null,
   "metadata": {},
   "outputs": [],
   "source": []
  },
  {
   "cell_type": "code",
   "execution_count": null,
   "metadata": {},
   "outputs": [],
   "source": []
  }
 ],
 "metadata": {
  "kernelspec": {
   "display_name": "Python 3",
   "language": "python",
   "name": "python3"
  },
  "language_info": {
   "codemirror_mode": {
    "name": "ipython",
    "version": 3
   },
   "file_extension": ".py",
   "mimetype": "text/x-python",
   "name": "python",
   "nbconvert_exporter": "python",
   "pygments_lexer": "ipython3",
   "version": "3.7.6"
  }
 },
 "nbformat": 4,
 "nbformat_minor": 4
}
